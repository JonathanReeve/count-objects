{
 "cells": [
  {
   "cell_type": "code",
   "execution_count": 1,
   "id": "c327821a-6388-48ce-a6a0-2d3e6b0172a0",
   "metadata": {},
   "outputs": [],
   "source": [
    "from nltk.corpus import wordnet as wn\n",
    "import re\n",
    "from collections import Counter\n",
    "import pandas as pd\n",
    "from plotly import express as px"
   ]
  },
  {
   "cell_type": "code",
   "execution_count": 2,
   "id": "98581739-0e78-4b2c-8d75-d21759713348",
   "metadata": {},
   "outputs": [
    {
     "data": {
      "text/plain": [
       "'game equipment consisting of an object used in playing certain board games'"
      ]
     },
     "execution_count": 2,
     "metadata": {},
     "output_type": "execute_result"
    }
   ],
   "source": [
    "wn.synset('man.n.10').definition()"
   ]
  },
  {
   "cell_type": "code",
   "execution_count": 5,
   "id": "cfad3d07-2697-4c44-a813-aa1f9e586fa4",
   "metadata": {},
   "outputs": [],
   "source": [
    "def parseResults(fn): \n",
    "    with open(fn) as f: \n",
    "        results = f.read()\n",
    "    pat = r\"\\(([0-9]+), ([0-9]+), (.*?), Synset\\('(.*?)'\\)\"\n",
    "    matches = re.findall(pat, results)\n",
    "    parsed = []\n",
    "    for match in matches: \n",
    "        parI, wordI, word, syn = match\n",
    "        parsed.append((int(parI), int(wordI), word, wn.synset(syn)))\n",
    "    return parsed"
   ]
  },
  {
   "cell_type": "code",
   "execution_count": 10,
   "id": "5708268a-975a-403a-be65-a7605e20603a",
   "metadata": {},
   "outputs": [],
   "source": [
    "def categorizeWords(data, minDepth=5, maxDepth=0):\n",
    "    wordsAndCats = []\n",
    "    for word, val in data.items():\n",
    "        wordCat = [val, word]\n",
    "        depth = minDepth\n",
    "        while depth > maxDepth:\n",
    "            cat = getHypernymLevelN(word, depth).name()\n",
    "            wordCat.append(cat)\n",
    "            depth -= 1\n",
    "        wordsAndCats.append(wordCat)\n",
    "    return wordsAndCats\n",
    "\n",
    "def getHypernymLevelN(synset, n):\n",
    "    while synset.min_depth() > n:\n",
    "        hypernyms = synset.hypernyms()\n",
    "        if len(hypernyms) > 0:\n",
    "            synset = hypernyms[0]\n",
    "        else:\n",
    "            break\n",
    "    return synset"
   ]
  },
  {
   "cell_type": "code",
   "execution_count": 39,
   "id": "398e617a-75f2-4b8d-987a-afee6b48905f",
   "metadata": {},
   "outputs": [],
   "source": [
    "\n",
    "def makeChart(colorWithCats, name):\n",
    "    df = pd.DataFrame(colorWithCats) # columns=cols)\n",
    "    #print(df)\n",
    "    fig = px.treemap(df, path=df.columns[-1:0:-1],\n",
    "                     values=0,\n",
    "                     color=0,\n",
    "                     #color_continuous_scale=getColorScale(name),\n",
    "                     color_continuous_midpoint=df[0].mean(),\n",
    "                     title='Breakdown of objects in ' + name\n",
    "                     )\n",
    "    with open(name+'.html', 'w') as f:\n",
    "        f.write(fig.to_html())\n",
    "    return df "
   ]
  },
  {
   "cell_type": "code",
   "execution_count": 26,
   "id": "c2fe80e2-681c-4c83-acce-6d0dcbbdef6a",
   "metadata": {
    "tags": []
   },
   "outputs": [],
   "source": [
    "def percentInCat(categorized, query): \n",
    "    \"\"\" Calculate the percentage of a given category. \n",
    "    The objects in this texts are X% objects, for instance.\" \n",
    "    \"\"\"\n",
    "    return len([l for l in categorized if query in l[2:]]) / len(categorized)"
   ]
  },
  {
   "cell_type": "code",
   "execution_count": 34,
   "id": "097109bc-7014-4b95-a702-6af97b2317ec",
   "metadata": {
    "tags": []
   },
   "outputs": [],
   "source": [
    "def objectPercentages(categorized, cats=['artifact.n.01', 'living_thing.n.01', 'natural_object.n.01']): \n",
    "    out = {}\n",
    "    for cat in cats: \n",
    "        percent = percentInCat(categorized, cat)\n",
    "        out[cat] = percent\n",
    "    return out"
   ]
  },
  {
   "cell_type": "code",
   "execution_count": 37,
   "id": "4c32d0ab-491d-4aeb-995d-8f5624d82e63",
   "metadata": {},
   "outputs": [],
   "source": [
    "def main(fn): \n",
    "    results = parseResults(fn)\n",
    "    stats = Counter([item[3] for item in results])\n",
    "    categorized = categorizeWords(stats)\n",
    "    return {fn: objectPercentages(categorized)}"
   ]
  },
  {
   "cell_type": "code",
   "execution_count": null,
   "id": "1b65edbe-6ba6-403d-ae0d-4f61ed0b062a",
   "metadata": {},
   "outputs": [],
   "source": [
    "if __name__ == \"__main__\": \n",
    "    "
   ]
  },
  {
   "cell_type": "code",
   "execution_count": 38,
   "id": "0f74661f-fa9f-466c-8f64-79e4c68b6430",
   "metadata": {},
   "outputs": [
    {
     "data": {
      "text/plain": [
       "{'results/1880-BrameCharlotteM-DoraThorne-2374.0.json': {'artifact.n.01': 0.3851508120649652,\n",
       "  'living_thing.n.01': 0.08004640371229699,\n",
       "  'natural_object.n.01': 0.042923433874709975}}"
      ]
     },
     "execution_count": 38,
     "metadata": {},
     "output_type": "execute_result"
    }
   ],
   "source": [
    "main('results/1880-BrameCharlotteM-DoraThorne-2374.0.json')"
   ]
  },
  {
   "cell_type": "code",
   "execution_count": null,
   "id": "2418de55-a132-476a-8917-cc8e7afa0887",
   "metadata": {},
   "outputs": [],
   "source": []
  }
 ],
 "metadata": {
  "kernelspec": {
   "display_name": "Python 3 (ipykernel)",
   "language": "python",
   "name": "python3"
  },
  "language_info": {
   "codemirror_mode": {
    "name": "ipython",
    "version": 3
   },
   "file_extension": ".py",
   "mimetype": "text/x-python",
   "name": "python",
   "nbconvert_exporter": "python",
   "pygments_lexer": "ipython3",
   "version": "3.9.12"
  }
 },
 "nbformat": 4,
 "nbformat_minor": 5
}
