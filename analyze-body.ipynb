{
 "cells": [
  {
   "cell_type": "code",
   "execution_count": 13,
   "id": "cf961bfe-9e4f-447c-b876-51511fceb309",
   "metadata": {},
   "outputs": [],
   "source": [
    "import pandas as pd\n",
    "from plotly import express as px\n",
    "import plotly.graph_objects as go\n",
    "\n",
    "import json\n",
    "from skimage import io"
   ]
  },
  {
   "cell_type": "code",
   "execution_count": 14,
   "id": "d94b9465-0acd-4c63-ad89-48446e18c2b2",
   "metadata": {},
   "outputs": [],
   "source": [
    "data = json.load(open('body-parts-pg3.json'))"
   ]
  },
  {
   "cell_type": "code",
   "execution_count": 15,
   "id": "300bd092-1662-46b6-a960-3fd0497847ff",
   "metadata": {},
   "outputs": [],
   "source": [
    "df = pd.DataFrame.from_dict(data, orient='index')"
   ]
  },
  {
   "cell_type": "code",
   "execution_count": null,
   "id": "f0b40b1a-08a7-4172-a60d-9a4ff1e7f5e2",
   "metadata": {
    "collapsed": true,
    "jupyter": {
     "outputs_hidden": true
    },
    "tags": []
   },
   "outputs": [
    {
     "data": {
      "text/plain": [
       "[[102,\n",
       "  'hand.n.01',\n",
       "  'external_body_part.n.01',\n",
       "  'body_part.n.01',\n",
       "  'part.n.03',\n",
       "  'thing.n.12',\n",
       "  'physical_entity.n.01'],\n",
       " [45,\n",
       "  'eye.n.01',\n",
       "  'organ.n.01',\n",
       "  'body_part.n.01',\n",
       "  'part.n.03',\n",
       "  'thing.n.12',\n",
       "  'physical_entity.n.01'],\n",
       " [44,\n",
       "  'face.n.01',\n",
       "  'external_body_part.n.01',\n",
       "  'body_part.n.01',\n",
       "  'part.n.03',\n",
       "  'thing.n.12',\n",
       "  'physical_entity.n.01'],\n",
       " [37,\n",
       "  'head.n.01',\n",
       "  'external_body_part.n.01',\n",
       "  'body_part.n.01',\n",
       "  'part.n.03',\n",
       "  'thing.n.12',\n",
       "  'physical_entity.n.01'],\n",
       " [18,\n",
       "  'finger.n.01',\n",
       "  'external_body_part.n.01',\n",
       "  'body_part.n.01',\n",
       "  'part.n.03',\n",
       "  'thing.n.12',\n",
       "  'physical_entity.n.01'],\n",
       " [16,\n",
       "  'lip.n.01',\n",
       "  'organ.n.01',\n",
       "  'body_part.n.01',\n",
       "  'part.n.03',\n",
       "  'thing.n.12',\n",
       "  'physical_entity.n.01'],\n",
       " [14,\n",
       "  'back.n.01',\n",
       "  'back.n.01',\n",
       "  'body_part.n.01',\n",
       "  'part.n.03',\n",
       "  'thing.n.12',\n",
       "  'physical_entity.n.01'],\n",
       " [12,\n",
       "  'shoulder.n.01',\n",
       "  'shoulder.n.01',\n",
       "  'body_part.n.01',\n",
       "  'part.n.03',\n",
       "  'thing.n.12',\n",
       "  'physical_entity.n.01'],\n",
       " [10,\n",
       "  'arm.n.01',\n",
       "  'external_body_part.n.01',\n",
       "  'body_part.n.01',\n",
       "  'part.n.03',\n",
       "  'thing.n.12',\n",
       "  'physical_entity.n.01'],\n",
       " [9,\n",
       "  'foot.n.01',\n",
       "  'external_body_part.n.01',\n",
       "  'body_part.n.01',\n",
       "  'part.n.03',\n",
       "  'thing.n.12',\n",
       "  'physical_entity.n.01'],\n",
       " [8,\n",
       "  'brow.n.01',\n",
       "  'feature.n.02',\n",
       "  'body_part.n.01',\n",
       "  'part.n.03',\n",
       "  'thing.n.12',\n",
       "  'physical_entity.n.01'],\n",
       " [6,\n",
       "  'heart.n.02',\n",
       "  'organ.n.01',\n",
       "  'body_part.n.01',\n",
       "  'part.n.03',\n",
       "  'thing.n.12',\n",
       "  'physical_entity.n.01'],\n",
       " [5,\n",
       "  'torso.n.01',\n",
       "  'torso.n.01',\n",
       "  'body_part.n.01',\n",
       "  'part.n.03',\n",
       "  'thing.n.12',\n",
       "  'physical_entity.n.01'],\n",
       " [5,\n",
       "  'mouth.n.02',\n",
       "  'structure.n.04',\n",
       "  'body_part.n.01',\n",
       "  'part.n.03',\n",
       "  'thing.n.12',\n",
       "  'physical_entity.n.01'],\n",
       " [5,\n",
       "  'elbow.n.01',\n",
       "  'joint.n.01',\n",
       "  'body_part.n.01',\n",
       "  'part.n.03',\n",
       "  'thing.n.12',\n",
       "  'physical_entity.n.01'],\n",
       " [5,\n",
       "  'buttocks.n.01',\n",
       "  'buttocks.n.01',\n",
       "  'body_part.n.01',\n",
       "  'part.n.03',\n",
       "  'thing.n.12',\n",
       "  'physical_entity.n.01'],\n",
       " [4,\n",
       "  'wrist.n.01',\n",
       "  'joint.n.01',\n",
       "  'body_part.n.01',\n",
       "  'part.n.03',\n",
       "  'thing.n.12',\n",
       "  'physical_entity.n.01'],\n",
       " [4,\n",
       "  'throat.n.01',\n",
       "  'structure.n.04',\n",
       "  'body_part.n.01',\n",
       "  'part.n.03',\n",
       "  'thing.n.12',\n",
       "  'physical_entity.n.01'],\n",
       " [4,\n",
       "  'stifle.n.01',\n",
       "  'joint.n.01',\n",
       "  'body_part.n.01',\n",
       "  'part.n.03',\n",
       "  'thing.n.12',\n",
       "  'physical_entity.n.01'],\n",
       " [4,\n",
       "  'knee.n.01',\n",
       "  'joint.n.01',\n",
       "  'body_part.n.01',\n",
       "  'part.n.03',\n",
       "  'thing.n.12',\n",
       "  'physical_entity.n.01'],\n",
       " [4,\n",
       "  'chin.n.01',\n",
       "  'feature.n.02',\n",
       "  'body_part.n.01',\n",
       "  'part.n.03',\n",
       "  'thing.n.12',\n",
       "  'physical_entity.n.01'],\n",
       " [4,\n",
       "  'cheek.n.01',\n",
       "  'feature.n.02',\n",
       "  'body_part.n.01',\n",
       "  'part.n.03',\n",
       "  'thing.n.12',\n",
       "  'physical_entity.n.01'],\n",
       " [4,\n",
       "  'breast.n.02',\n",
       "  'organ.n.01',\n",
       "  'body_part.n.01',\n",
       "  'part.n.03',\n",
       "  'thing.n.12',\n",
       "  'physical_entity.n.01'],\n",
       " [3,\n",
       "  'trap.n.06',\n",
       "  'structure.n.04',\n",
       "  'body_part.n.01',\n",
       "  'part.n.03',\n",
       "  'thing.n.12',\n",
       "  'physical_entity.n.01'],\n",
       " [3,\n",
       "  'process.n.05',\n",
       "  'process.n.05',\n",
       "  'body_part.n.01',\n",
       "  'part.n.03',\n",
       "  'thing.n.12',\n",
       "  'physical_entity.n.01'],\n",
       " [3,\n",
       "  'nose.n.01',\n",
       "  'organ.n.01',\n",
       "  'body_part.n.01',\n",
       "  'part.n.03',\n",
       "  'thing.n.12',\n",
       "  'physical_entity.n.01'],\n",
       " [3,\n",
       "  'nerve.n.01',\n",
       "  'tissue.n.01',\n",
       "  'body_part.n.01',\n",
       "  'part.n.03',\n",
       "  'thing.n.12',\n",
       "  'physical_entity.n.01'],\n",
       " [3,\n",
       "  'mouth.n.01',\n",
       "  'structure.n.04',\n",
       "  'body_part.n.01',\n",
       "  'part.n.03',\n",
       "  'thing.n.12',\n",
       "  'physical_entity.n.01'],\n",
       " [3,\n",
       "  'eyelid.n.01',\n",
       "  'tissue.n.01',\n",
       "  'body_part.n.01',\n",
       "  'part.n.03',\n",
       "  'thing.n.12',\n",
       "  'physical_entity.n.01'],\n",
       " [3,\n",
       "  'auricle.n.02',\n",
       "  'structure.n.04',\n",
       "  'body_part.n.01',\n",
       "  'part.n.03',\n",
       "  'thing.n.12',\n",
       "  'physical_entity.n.01'],\n",
       " [2,\n",
       "  'tooth.n.01',\n",
       "  'tissue.n.01',\n",
       "  'body_part.n.01',\n",
       "  'part.n.03',\n",
       "  'thing.n.12',\n",
       "  'physical_entity.n.01'],\n",
       " [2,\n",
       "  'side.n.03',\n",
       "  'area.n.03',\n",
       "  'body_part.n.01',\n",
       "  'part.n.03',\n",
       "  'thing.n.12',\n",
       "  'physical_entity.n.01'],\n",
       " [2,\n",
       "  'pore.n.02',\n",
       "  'structure.n.04',\n",
       "  'body_part.n.01',\n",
       "  'part.n.03',\n",
       "  'thing.n.12',\n",
       "  'physical_entity.n.01'],\n",
       " [2,\n",
       "  'neck.n.01',\n",
       "  'external_body_part.n.01',\n",
       "  'body_part.n.01',\n",
       "  'part.n.03',\n",
       "  'thing.n.12',\n",
       "  'physical_entity.n.01'],\n",
       " [2,\n",
       "  'lung.n.01',\n",
       "  'organ.n.01',\n",
       "  'body_part.n.01',\n",
       "  'part.n.03',\n",
       "  'thing.n.12',\n",
       "  'physical_entity.n.01'],\n",
       " [2,\n",
       "  'lap.n.01',\n",
       "  'external_body_part.n.01',\n",
       "  'body_part.n.01',\n",
       "  'part.n.03',\n",
       "  'thing.n.12',\n",
       "  'physical_entity.n.01'],\n",
       " [2,\n",
       "  'jaw.n.01',\n",
       "  'tissue.n.01',\n",
       "  'body_part.n.01',\n",
       "  'part.n.03',\n",
       "  'thing.n.12',\n",
       "  'physical_entity.n.01'],\n",
       " [2,\n",
       "  'heel.n.02',\n",
       "  'structure.n.04',\n",
       "  'body_part.n.01',\n",
       "  'part.n.03',\n",
       "  'thing.n.12',\n",
       "  'physical_entity.n.01'],\n",
       " [2,\n",
       "  'hair.n.03',\n",
       "  'process.n.05',\n",
       "  'body_part.n.01',\n",
       "  'part.n.03',\n",
       "  'thing.n.12',\n",
       "  'physical_entity.n.01'],\n",
       " [2,\n",
       "  'brain.n.01',\n",
       "  'structure.n.04',\n",
       "  'body_part.n.01',\n",
       "  'part.n.03',\n",
       "  'thing.n.12',\n",
       "  'physical_entity.n.01'],\n",
       " [1,\n",
       "  'waist.n.01',\n",
       "  'area.n.03',\n",
       "  'body_part.n.01',\n",
       "  'part.n.03',\n",
       "  'thing.n.12',\n",
       "  'physical_entity.n.01'],\n",
       " [1,\n",
       "  'udder.n.01',\n",
       "  'organ.n.01',\n",
       "  'body_part.n.01',\n",
       "  'part.n.03',\n",
       "  'thing.n.12',\n",
       "  'physical_entity.n.01'],\n",
       " [1,\n",
       "  'tunic.n.01',\n",
       "  'tissue.n.01',\n",
       "  'body_part.n.01',\n",
       "  'part.n.03',\n",
       "  'thing.n.12',\n",
       "  'physical_entity.n.01'],\n",
       " [1,\n",
       "  'tuberosity.n.01',\n",
       "  'process.n.05',\n",
       "  'body_part.n.01',\n",
       "  'part.n.03',\n",
       "  'thing.n.12',\n",
       "  'physical_entity.n.01'],\n",
       " [1,\n",
       "  'toe.n.01',\n",
       "  'external_body_part.n.01',\n",
       "  'body_part.n.01',\n",
       "  'part.n.03',\n",
       "  'thing.n.12',\n",
       "  'physical_entity.n.01'],\n",
       " [1,\n",
       "  'thorax.n.02',\n",
       "  'thorax.n.02',\n",
       "  'body_part.n.01',\n",
       "  'part.n.03',\n",
       "  'thing.n.12',\n",
       "  'physical_entity.n.01'],\n",
       " [1,\n",
       "  'sacrum.n.01',\n",
       "  'tissue.n.01',\n",
       "  'body_part.n.01',\n",
       "  'part.n.03',\n",
       "  'thing.n.12',\n",
       "  'physical_entity.n.01'],\n",
       " [1,\n",
       "  'pin.n.05',\n",
       "  'external_body_part.n.01',\n",
       "  'body_part.n.01',\n",
       "  'part.n.03',\n",
       "  'thing.n.12',\n",
       "  'physical_entity.n.01'],\n",
       " [1,\n",
       "  'organ.n.01',\n",
       "  'organ.n.01',\n",
       "  'body_part.n.01',\n",
       "  'part.n.03',\n",
       "  'thing.n.12',\n",
       "  'physical_entity.n.01'],\n",
       " [1,\n",
       "  'nostril.n.01',\n",
       "  'structure.n.04',\n",
       "  'body_part.n.01',\n",
       "  'part.n.03',\n",
       "  'thing.n.12',\n",
       "  'physical_entity.n.01'],\n",
       " [1,\n",
       "  'nail.n.01',\n",
       "  'structure.n.04',\n",
       "  'body_part.n.01',\n",
       "  'part.n.03',\n",
       "  'thing.n.12',\n",
       "  'physical_entity.n.01'],\n",
       " [1,\n",
       "  'limb.n.01',\n",
       "  'external_body_part.n.01',\n",
       "  'body_part.n.01',\n",
       "  'part.n.03',\n",
       "  'thing.n.12',\n",
       "  'physical_entity.n.01'],\n",
       " [1,\n",
       "  'leg.n.01',\n",
       "  'external_body_part.n.01',\n",
       "  'body_part.n.01',\n",
       "  'part.n.03',\n",
       "  'thing.n.12',\n",
       "  'physical_entity.n.01'],\n",
       " [1,\n",
       "  'iris.n.02',\n",
       "  'tissue.n.01',\n",
       "  'body_part.n.01',\n",
       "  'part.n.03',\n",
       "  'thing.n.12',\n",
       "  'physical_entity.n.01'],\n",
       " [1,\n",
       "  'head.n.26',\n",
       "  'structure.n.04',\n",
       "  'body_part.n.01',\n",
       "  'part.n.03',\n",
       "  'thing.n.12',\n",
       "  'physical_entity.n.01'],\n",
       " [1,\n",
       "  'hair.n.06',\n",
       "  'process.n.05',\n",
       "  'body_part.n.01',\n",
       "  'part.n.03',\n",
       "  'thing.n.12',\n",
       "  'physical_entity.n.01'],\n",
       " [1,\n",
       "  'girdle.n.01',\n",
       "  'structure.n.04',\n",
       "  'body_part.n.01',\n",
       "  'part.n.03',\n",
       "  'thing.n.12',\n",
       "  'physical_entity.n.01'],\n",
       " [1,\n",
       "  'germ.n.02',\n",
       "  'structure.n.04',\n",
       "  'body_part.n.01',\n",
       "  'part.n.03',\n",
       "  'thing.n.12',\n",
       "  'physical_entity.n.01'],\n",
       " [1,\n",
       "  'foot.n.06',\n",
       "  'organ.n.01',\n",
       "  'body_part.n.01',\n",
       "  'part.n.03',\n",
       "  'thing.n.12',\n",
       "  'physical_entity.n.01'],\n",
       " [1,\n",
       "  'feature.n.02',\n",
       "  'feature.n.02',\n",
       "  'body_part.n.01',\n",
       "  'part.n.03',\n",
       "  'thing.n.12',\n",
       "  'physical_entity.n.01'],\n",
       " [1,\n",
       "  'extremity.n.05',\n",
       "  'external_body_part.n.01',\n",
       "  'body_part.n.01',\n",
       "  'part.n.03',\n",
       "  'thing.n.12',\n",
       "  'physical_entity.n.01'],\n",
       " [1,\n",
       "  'extremity.n.01',\n",
       "  'external_body_part.n.01',\n",
       "  'body_part.n.01',\n",
       "  'part.n.03',\n",
       "  'thing.n.12',\n",
       "  'physical_entity.n.01'],\n",
       " [1,\n",
       "  'cunt.n.02',\n",
       "  'organ.n.01',\n",
       "  'body_part.n.01',\n",
       "  'part.n.03',\n",
       "  'thing.n.12',\n",
       "  'physical_entity.n.01'],\n",
       " [1,\n",
       "  'caul.n.02',\n",
       "  'tissue.n.01',\n",
       "  'body_part.n.01',\n",
       "  'part.n.03',\n",
       "  'thing.n.12',\n",
       "  'physical_entity.n.01'],\n",
       " [1,\n",
       "  'calf.n.02',\n",
       "  'organ.n.01',\n",
       "  'body_part.n.01',\n",
       "  'part.n.03',\n",
       "  'thing.n.12',\n",
       "  'physical_entity.n.01'],\n",
       " [1,\n",
       "  'buttock.n.01',\n",
       "  'buttock.n.01',\n",
       "  'body_part.n.01',\n",
       "  'part.n.03',\n",
       "  'thing.n.12',\n",
       "  'physical_entity.n.01'],\n",
       " [1,\n",
       "  'bridge.n.04',\n",
       "  'structure.n.04',\n",
       "  'body_part.n.01',\n",
       "  'part.n.03',\n",
       "  'thing.n.12',\n",
       "  'physical_entity.n.01'],\n",
       " [1,\n",
       "  'breast.n.01',\n",
       "  'external_body_part.n.01',\n",
       "  'body_part.n.01',\n",
       "  'part.n.03',\n",
       "  'thing.n.12',\n",
       "  'physical_entity.n.01'],\n",
       " [1,\n",
       "  'bone.n.01',\n",
       "  'tissue.n.01',\n",
       "  'body_part.n.01',\n",
       "  'part.n.03',\n",
       "  'thing.n.12',\n",
       "  'physical_entity.n.01'],\n",
       " [1,\n",
       "  'blade.n.06',\n",
       "  'structure.n.04',\n",
       "  'body_part.n.01',\n",
       "  'part.n.03',\n",
       "  'thing.n.12',\n",
       "  'physical_entity.n.01'],\n",
       " [1,\n",
       "  'abdomen.n.01',\n",
       "  'abdomen.n.01',\n",
       "  'body_part.n.01',\n",
       "  'part.n.03',\n",
       "  'thing.n.12',\n",
       "  'physical_entity.n.01']]"
      ]
     },
     "execution_count": 19,
     "metadata": {},
     "output_type": "execute_result"
    }
   ],
   "source": [
    "sorted(data['results-pg3/1897-AudreyCraven-29766.0.txt-annotated.txt'], reverse=True)"
   ]
  },
  {
   "cell_type": "code",
   "execution_count": 27,
   "id": "86fb1848-d835-4951-8d13-2464e5d357eb",
   "metadata": {},
   "outputs": [],
   "source": [
    "dataClean = {fn.strip(\"results-pg3/\").strip(\".txt-annotated.txt\"): \n",
    "             {l[1]: l[0] for l in d} for fn, d in data.items()}"
   ]
  },
  {
   "cell_type": "code",
   "execution_count": 32,
   "id": "b5370aa2-c44c-40eb-b912-8678087d1f35",
   "metadata": {},
   "outputs": [
    {
     "data": {
      "text/plain": [
       "limbus.n.01            1.0\n",
       "ureter.n.01            1.0\n",
       "upper_jaw.n.01         1.0\n",
       "fistula.n.02           1.0\n",
       "nucleolus.n.01         1.0\n",
       "                    ...   \n",
       "arm.n.01           29137.0\n",
       "head.n.01          41131.0\n",
       "face.n.01          51991.0\n",
       "eye.n.01           86701.0\n",
       "hand.n.01         156058.0\n",
       "Length: 497, dtype: float64"
      ]
     },
     "execution_count": 32,
     "metadata": {},
     "output_type": "execute_result"
    }
   ],
   "source": [
    "df = pd.DataFrame(dataClean).fillna(0).T\n",
    "df.sum().sort_values()"
   ]
  },
  {
   "cell_type": "code",
   "execution_count": 34,
   "id": "750ece1f-68f1-443b-afa7-07ceeba1990b",
   "metadata": {},
   "outputs": [],
   "source": [
    "with open(\"wordCounts4.json\") as f:\n",
    "    wordCounts = json.load(f)"
   ]
  },
  {
   "cell_type": "code",
   "execution_count": 36,
   "id": "71901eaf-2991-448d-b174-e350569844a4",
   "metadata": {},
   "outputs": [],
   "source": [
    "wordCounts = {fn.strip('.txt'): count for fn, count in wordCounts.items()}"
   ]
  },
  {
   "cell_type": "code",
   "execution_count": 40,
   "id": "1c6ac3cc-1918-4dcd-a504-e6c068cdd9ca",
   "metadata": {},
   "outputs": [
    {
     "data": {
      "text/plain": [
       "1607"
      ]
     },
     "execution_count": 40,
     "metadata": {},
     "output_type": "execute_result"
    }
   ],
   "source": [
    "len(wordCounts)"
   ]
  },
  {
   "cell_type": "code",
   "execution_count": 41,
   "id": "5e8a800d-0195-44ae-a558-43d5122ae1aa",
   "metadata": {},
   "outputs": [
    {
     "data": {
      "text/plain": [
       "1599"
      ]
     },
     "execution_count": 41,
     "metadata": {},
     "output_type": "execute_result"
    }
   ],
   "source": [
    "len(df)"
   ]
  },
  {
   "cell_type": "markdown",
   "id": "25c43a27-f609-43a3-b208-c1f666528168",
   "metadata": {},
   "source": [
    "Remove those items which we don't have data for. "
   ]
  },
  {
   "cell_type": "code",
   "execution_count": 45,
   "id": "eed27419-d0f0-4d34-87b9-cee379895b00",
   "metadata": {},
   "outputs": [],
   "source": [
    "for fn in (wordCounts.keys() - df.index):\n",
    "    del wordCounts[fn]"
   ]
  },
  {
   "cell_type": "code",
   "execution_count": 51,
   "id": "4768fabb-ae1f-4e4c-8c31-a5b85808a3de",
   "metadata": {},
   "outputs": [],
   "source": [
    "proportions = df.div(wordCounts, axis=0)"
   ]
  },
  {
   "cell_type": "code",
   "execution_count": 120,
   "id": "cc03e39e-8335-46bc-b5ee-4ccd5ab97086",
   "metadata": {},
   "outputs": [],
   "source": [
    "top20 = proportions.sum().sort_values(ascending=False).head(30)"
   ]
  },
  {
   "cell_type": "code",
   "execution_count": 121,
   "id": "562d980e-223b-4672-a7e0-8aded11a4fa3",
   "metadata": {},
   "outputs": [],
   "source": [
    "other = proportions.sum().sort_values(ascending=False).tail(len(proportions.sum())-30)"
   ]
  },
  {
   "cell_type": "code",
   "execution_count": 122,
   "id": "105ec075-af88-4c71-a146-390c06d74bcd",
   "metadata": {},
   "outputs": [
    {
     "data": {
      "text/plain": [
       "1.4108516910914075"
      ]
     },
     "execution_count": 122,
     "metadata": {},
     "output_type": "execute_result"
    }
   ],
   "source": [
    "other.sum()"
   ]
  },
  {
   "cell_type": "code",
   "execution_count": 123,
   "id": "995bbbe7-6cb4-498e-9966-59be031ab9ff",
   "metadata": {},
   "outputs": [],
   "source": [
    "top20Df = pd.DataFrame(top20)\n",
    "top20Df.loc['other'] = other.sum()\n",
    "top20Df['body part'] = top20Df.index"
   ]
  },
  {
   "cell_type": "code",
   "execution_count": 125,
   "id": "ca785f7c-24c7-4f0b-aa6b-8105a8377b12",
   "metadata": {},
   "outputs": [
    {
     "data": {
      "application/vnd.plotly.v1+json": {
       "config": {
        "plotlyServerURL": "https://plot.ly"
       },
       "data": [
        {
         "domain": {
          "x": [
           0,
           1
          ],
          "y": [
           0,
           1
          ]
         },
         "hovertemplate": "body part=%{label}<br>0=%{value}<extra></extra>",
         "labels": [
          "hand.n.01",
          "eye.n.01",
          "face.n.01",
          "head.n.01",
          "arm.n.01",
          "shoulder.n.01",
          "finger.n.01",
          "lip.n.01",
          "back.n.01",
          "foot.n.01",
          "buttocks.n.01",
          "auricle.n.02",
          "neck.n.01",
          "brow.n.01",
          "stifle.n.01",
          "cheek.n.01",
          "mouth.n.01",
          "bone.n.01",
          "breast.n.02",
          "torso.n.01",
          "tooth.n.01",
          "countenance.n.03",
          "throat.n.01",
          "chin.n.01",
          "heart.n.02",
          "feature.n.02",
          "knee.n.01",
          "ear.n.01",
          "mouth.n.02",
          "hair.n.03",
          "other"
         ],
         "legendgroup": "",
         "name": "",
         "showlegend": true,
         "textinfo": "percent+label",
         "textposition": "inside",
         "type": "pie",
         "values": [
          1.38629501457695,
          0.7971580343627349,
          0.46880422027614105,
          0.37471764702269117,
          0.25158905946351284,
          0.219525518237773,
          0.1642168228774423,
          0.16253604304559235,
          0.15825515554244574,
          0.1255862845615453,
          0.11927684977509811,
          0.09748742254023553,
          0.09741754881455503,
          0.09554590464225576,
          0.08668308747166248,
          0.08140742923550709,
          0.08038718988740828,
          0.06825596105346725,
          0.06667961693786773,
          0.0642539775889291,
          0.06237732436724253,
          0.06217655956762915,
          0.061662917336804485,
          0.05094136371858742,
          0.0492490235000974,
          0.04784202513954641,
          0.04589455273287743,
          0.043331249321504985,
          0.04180597405848735,
          0.03931635511243969,
          1.4108516910914075
         ]
        }
       ],
       "layout": {
        "autosize": true,
        "legend": {
         "tracegroupgap": 0
        },
        "margin": {
         "t": 60
        },
        "template": {
         "data": {
          "bar": [
           {
            "error_x": {
             "color": "#2a3f5f"
            },
            "error_y": {
             "color": "#2a3f5f"
            },
            "marker": {
             "line": {
              "color": "#E5ECF6",
              "width": 0.5
             },
             "pattern": {
              "fillmode": "overlay",
              "size": 10,
              "solidity": 0.2
             }
            },
            "type": "bar"
           }
          ],
          "barpolar": [
           {
            "marker": {
             "line": {
              "color": "#E5ECF6",
              "width": 0.5
             },
             "pattern": {
              "fillmode": "overlay",
              "size": 10,
              "solidity": 0.2
             }
            },
            "type": "barpolar"
           }
          ],
          "carpet": [
           {
            "aaxis": {
             "endlinecolor": "#2a3f5f",
             "gridcolor": "white",
             "linecolor": "white",
             "minorgridcolor": "white",
             "startlinecolor": "#2a3f5f"
            },
            "baxis": {
             "endlinecolor": "#2a3f5f",
             "gridcolor": "white",
             "linecolor": "white",
             "minorgridcolor": "white",
             "startlinecolor": "#2a3f5f"
            },
            "type": "carpet"
           }
          ],
          "choropleth": [
           {
            "colorbar": {
             "outlinewidth": 0,
             "ticks": ""
            },
            "type": "choropleth"
           }
          ],
          "contour": [
           {
            "colorbar": {
             "outlinewidth": 0,
             "ticks": ""
            },
            "colorscale": [
             [
              0,
              "#0d0887"
             ],
             [
              0.1111111111111111,
              "#46039f"
             ],
             [
              0.2222222222222222,
              "#7201a8"
             ],
             [
              0.3333333333333333,
              "#9c179e"
             ],
             [
              0.4444444444444444,
              "#bd3786"
             ],
             [
              0.5555555555555556,
              "#d8576b"
             ],
             [
              0.6666666666666666,
              "#ed7953"
             ],
             [
              0.7777777777777778,
              "#fb9f3a"
             ],
             [
              0.8888888888888888,
              "#fdca26"
             ],
             [
              1,
              "#f0f921"
             ]
            ],
            "type": "contour"
           }
          ],
          "contourcarpet": [
           {
            "colorbar": {
             "outlinewidth": 0,
             "ticks": ""
            },
            "type": "contourcarpet"
           }
          ],
          "heatmap": [
           {
            "colorbar": {
             "outlinewidth": 0,
             "ticks": ""
            },
            "colorscale": [
             [
              0,
              "#0d0887"
             ],
             [
              0.1111111111111111,
              "#46039f"
             ],
             [
              0.2222222222222222,
              "#7201a8"
             ],
             [
              0.3333333333333333,
              "#9c179e"
             ],
             [
              0.4444444444444444,
              "#bd3786"
             ],
             [
              0.5555555555555556,
              "#d8576b"
             ],
             [
              0.6666666666666666,
              "#ed7953"
             ],
             [
              0.7777777777777778,
              "#fb9f3a"
             ],
             [
              0.8888888888888888,
              "#fdca26"
             ],
             [
              1,
              "#f0f921"
             ]
            ],
            "type": "heatmap"
           }
          ],
          "heatmapgl": [
           {
            "colorbar": {
             "outlinewidth": 0,
             "ticks": ""
            },
            "colorscale": [
             [
              0,
              "#0d0887"
             ],
             [
              0.1111111111111111,
              "#46039f"
             ],
             [
              0.2222222222222222,
              "#7201a8"
             ],
             [
              0.3333333333333333,
              "#9c179e"
             ],
             [
              0.4444444444444444,
              "#bd3786"
             ],
             [
              0.5555555555555556,
              "#d8576b"
             ],
             [
              0.6666666666666666,
              "#ed7953"
             ],
             [
              0.7777777777777778,
              "#fb9f3a"
             ],
             [
              0.8888888888888888,
              "#fdca26"
             ],
             [
              1,
              "#f0f921"
             ]
            ],
            "type": "heatmapgl"
           }
          ],
          "histogram": [
           {
            "marker": {
             "pattern": {
              "fillmode": "overlay",
              "size": 10,
              "solidity": 0.2
             }
            },
            "type": "histogram"
           }
          ],
          "histogram2d": [
           {
            "colorbar": {
             "outlinewidth": 0,
             "ticks": ""
            },
            "colorscale": [
             [
              0,
              "#0d0887"
             ],
             [
              0.1111111111111111,
              "#46039f"
             ],
             [
              0.2222222222222222,
              "#7201a8"
             ],
             [
              0.3333333333333333,
              "#9c179e"
             ],
             [
              0.4444444444444444,
              "#bd3786"
             ],
             [
              0.5555555555555556,
              "#d8576b"
             ],
             [
              0.6666666666666666,
              "#ed7953"
             ],
             [
              0.7777777777777778,
              "#fb9f3a"
             ],
             [
              0.8888888888888888,
              "#fdca26"
             ],
             [
              1,
              "#f0f921"
             ]
            ],
            "type": "histogram2d"
           }
          ],
          "histogram2dcontour": [
           {
            "colorbar": {
             "outlinewidth": 0,
             "ticks": ""
            },
            "colorscale": [
             [
              0,
              "#0d0887"
             ],
             [
              0.1111111111111111,
              "#46039f"
             ],
             [
              0.2222222222222222,
              "#7201a8"
             ],
             [
              0.3333333333333333,
              "#9c179e"
             ],
             [
              0.4444444444444444,
              "#bd3786"
             ],
             [
              0.5555555555555556,
              "#d8576b"
             ],
             [
              0.6666666666666666,
              "#ed7953"
             ],
             [
              0.7777777777777778,
              "#fb9f3a"
             ],
             [
              0.8888888888888888,
              "#fdca26"
             ],
             [
              1,
              "#f0f921"
             ]
            ],
            "type": "histogram2dcontour"
           }
          ],
          "mesh3d": [
           {
            "colorbar": {
             "outlinewidth": 0,
             "ticks": ""
            },
            "type": "mesh3d"
           }
          ],
          "parcoords": [
           {
            "line": {
             "colorbar": {
              "outlinewidth": 0,
              "ticks": ""
             }
            },
            "type": "parcoords"
           }
          ],
          "pie": [
           {
            "automargin": true,
            "type": "pie"
           }
          ],
          "scatter": [
           {
            "marker": {
             "colorbar": {
              "outlinewidth": 0,
              "ticks": ""
             }
            },
            "type": "scatter"
           }
          ],
          "scatter3d": [
           {
            "line": {
             "colorbar": {
              "outlinewidth": 0,
              "ticks": ""
             }
            },
            "marker": {
             "colorbar": {
              "outlinewidth": 0,
              "ticks": ""
             }
            },
            "type": "scatter3d"
           }
          ],
          "scattercarpet": [
           {
            "marker": {
             "colorbar": {
              "outlinewidth": 0,
              "ticks": ""
             }
            },
            "type": "scattercarpet"
           }
          ],
          "scattergeo": [
           {
            "marker": {
             "colorbar": {
              "outlinewidth": 0,
              "ticks": ""
             }
            },
            "type": "scattergeo"
           }
          ],
          "scattergl": [
           {
            "marker": {
             "colorbar": {
              "outlinewidth": 0,
              "ticks": ""
             }
            },
            "type": "scattergl"
           }
          ],
          "scattermapbox": [
           {
            "marker": {
             "colorbar": {
              "outlinewidth": 0,
              "ticks": ""
             }
            },
            "type": "scattermapbox"
           }
          ],
          "scatterpolar": [
           {
            "marker": {
             "colorbar": {
              "outlinewidth": 0,
              "ticks": ""
             }
            },
            "type": "scatterpolar"
           }
          ],
          "scatterpolargl": [
           {
            "marker": {
             "colorbar": {
              "outlinewidth": 0,
              "ticks": ""
             }
            },
            "type": "scatterpolargl"
           }
          ],
          "scatterternary": [
           {
            "marker": {
             "colorbar": {
              "outlinewidth": 0,
              "ticks": ""
             }
            },
            "type": "scatterternary"
           }
          ],
          "surface": [
           {
            "colorbar": {
             "outlinewidth": 0,
             "ticks": ""
            },
            "colorscale": [
             [
              0,
              "#0d0887"
             ],
             [
              0.1111111111111111,
              "#46039f"
             ],
             [
              0.2222222222222222,
              "#7201a8"
             ],
             [
              0.3333333333333333,
              "#9c179e"
             ],
             [
              0.4444444444444444,
              "#bd3786"
             ],
             [
              0.5555555555555556,
              "#d8576b"
             ],
             [
              0.6666666666666666,
              "#ed7953"
             ],
             [
              0.7777777777777778,
              "#fb9f3a"
             ],
             [
              0.8888888888888888,
              "#fdca26"
             ],
             [
              1,
              "#f0f921"
             ]
            ],
            "type": "surface"
           }
          ],
          "table": [
           {
            "cells": {
             "fill": {
              "color": "#EBF0F8"
             },
             "line": {
              "color": "white"
             }
            },
            "header": {
             "fill": {
              "color": "#C8D4E3"
             },
             "line": {
              "color": "white"
             }
            },
            "type": "table"
           }
          ]
         },
         "layout": {
          "annotationdefaults": {
           "arrowcolor": "#2a3f5f",
           "arrowhead": 0,
           "arrowwidth": 1
          },
          "autotypenumbers": "strict",
          "coloraxis": {
           "colorbar": {
            "outlinewidth": 0,
            "ticks": ""
           }
          },
          "colorscale": {
           "diverging": [
            [
             0,
             "#8e0152"
            ],
            [
             0.1,
             "#c51b7d"
            ],
            [
             0.2,
             "#de77ae"
            ],
            [
             0.3,
             "#f1b6da"
            ],
            [
             0.4,
             "#fde0ef"
            ],
            [
             0.5,
             "#f7f7f7"
            ],
            [
             0.6,
             "#e6f5d0"
            ],
            [
             0.7,
             "#b8e186"
            ],
            [
             0.8,
             "#7fbc41"
            ],
            [
             0.9,
             "#4d9221"
            ],
            [
             1,
             "#276419"
            ]
           ],
           "sequential": [
            [
             0,
             "#0d0887"
            ],
            [
             0.1111111111111111,
             "#46039f"
            ],
            [
             0.2222222222222222,
             "#7201a8"
            ],
            [
             0.3333333333333333,
             "#9c179e"
            ],
            [
             0.4444444444444444,
             "#bd3786"
            ],
            [
             0.5555555555555556,
             "#d8576b"
            ],
            [
             0.6666666666666666,
             "#ed7953"
            ],
            [
             0.7777777777777778,
             "#fb9f3a"
            ],
            [
             0.8888888888888888,
             "#fdca26"
            ],
            [
             1,
             "#f0f921"
            ]
           ],
           "sequentialminus": [
            [
             0,
             "#0d0887"
            ],
            [
             0.1111111111111111,
             "#46039f"
            ],
            [
             0.2222222222222222,
             "#7201a8"
            ],
            [
             0.3333333333333333,
             "#9c179e"
            ],
            [
             0.4444444444444444,
             "#bd3786"
            ],
            [
             0.5555555555555556,
             "#d8576b"
            ],
            [
             0.6666666666666666,
             "#ed7953"
            ],
            [
             0.7777777777777778,
             "#fb9f3a"
            ],
            [
             0.8888888888888888,
             "#fdca26"
            ],
            [
             1,
             "#f0f921"
            ]
           ]
          },
          "colorway": [
           "#636efa",
           "#EF553B",
           "#00cc96",
           "#ab63fa",
           "#FFA15A",
           "#19d3f3",
           "#FF6692",
           "#B6E880",
           "#FF97FF",
           "#FECB52"
          ],
          "font": {
           "color": "#2a3f5f"
          },
          "geo": {
           "bgcolor": "white",
           "lakecolor": "white",
           "landcolor": "#E5ECF6",
           "showlakes": true,
           "showland": true,
           "subunitcolor": "white"
          },
          "hoverlabel": {
           "align": "left"
          },
          "hovermode": "closest",
          "mapbox": {
           "style": "light"
          },
          "paper_bgcolor": "white",
          "plot_bgcolor": "#E5ECF6",
          "polar": {
           "angularaxis": {
            "gridcolor": "white",
            "linecolor": "white",
            "ticks": ""
           },
           "bgcolor": "#E5ECF6",
           "radialaxis": {
            "gridcolor": "white",
            "linecolor": "white",
            "ticks": ""
           }
          },
          "scene": {
           "xaxis": {
            "backgroundcolor": "#E5ECF6",
            "gridcolor": "white",
            "gridwidth": 2,
            "linecolor": "white",
            "showbackground": true,
            "ticks": "",
            "zerolinecolor": "white"
           },
           "yaxis": {
            "backgroundcolor": "#E5ECF6",
            "gridcolor": "white",
            "gridwidth": 2,
            "linecolor": "white",
            "showbackground": true,
            "ticks": "",
            "zerolinecolor": "white"
           },
           "zaxis": {
            "backgroundcolor": "#E5ECF6",
            "gridcolor": "white",
            "gridwidth": 2,
            "linecolor": "white",
            "showbackground": true,
            "ticks": "",
            "zerolinecolor": "white"
           }
          },
          "shapedefaults": {
           "line": {
            "color": "#2a3f5f"
           }
          },
          "ternary": {
           "aaxis": {
            "gridcolor": "white",
            "linecolor": "white",
            "ticks": ""
           },
           "baxis": {
            "gridcolor": "white",
            "linecolor": "white",
            "ticks": ""
           },
           "bgcolor": "#E5ECF6",
           "caxis": {
            "gridcolor": "white",
            "linecolor": "white",
            "ticks": ""
           }
          },
          "title": {
           "x": 0.05
          },
          "xaxis": {
           "automargin": true,
           "gridcolor": "white",
           "linecolor": "white",
           "ticks": "",
           "title": {
            "standoff": 15
           },
           "zerolinecolor": "white",
           "zerolinewidth": 2
          },
          "yaxis": {
           "automargin": true,
           "gridcolor": "white",
           "linecolor": "white",
           "ticks": "",
           "title": {
            "standoff": 15
           },
           "zerolinecolor": "white",
           "zerolinewidth": 2
          }
         }
        }
       }
      },
      "image/png": "[encoded data removed]",
      "text/html": [
       "<div>                            <div id=\"2d9efd14-2b3d-4f12-bd18-73e5ad2be164\" class=\"plotly-graph-div\" style=\"height:525px; width:100%;\"></div>            <script type=\"text/javascript\">                require([\"plotly\"], function(Plotly) {                    window.PLOTLYENV=window.PLOTLYENV || {};                                    if (document.getElementById(\"2d9efd14-2b3d-4f12-bd18-73e5ad2be164\")) {                    Plotly.newPlot(                        \"2d9efd14-2b3d-4f12-bd18-73e5ad2be164\",                        [{\"domain\":{\"x\":[0.0,1.0],\"y\":[0.0,1.0]},\"hovertemplate\":\"body part=%{label}<br>0=%{value}<extra></extra>\",\"labels\":[\"hand.n.01\",\"eye.n.01\",\"face.n.01\",\"head.n.01\",\"arm.n.01\",\"shoulder.n.01\",\"finger.n.01\",\"lip.n.01\",\"back.n.01\",\"foot.n.01\",\"buttocks.n.01\",\"auricle.n.02\",\"neck.n.01\",\"brow.n.01\",\"stifle.n.01\",\"cheek.n.01\",\"mouth.n.01\",\"bone.n.01\",\"breast.n.02\",\"torso.n.01\",\"tooth.n.01\",\"countenance.n.03\",\"throat.n.01\",\"chin.n.01\",\"heart.n.02\",\"feature.n.02\",\"knee.n.01\",\"ear.n.01\",\"mouth.n.02\",\"hair.n.03\",\"other\"],\"legendgroup\":\"\",\"name\":\"\",\"showlegend\":true,\"textinfo\":\"percent+label\",\"textposition\":\"inside\",\"type\":\"pie\",\"values\":[1.38629501457695,0.7971580343627349,0.46880422027614105,0.37471764702269117,0.25158905946351284,0.219525518237773,0.1642168228774423,0.16253604304559235,0.15825515554244574,0.1255862845615453,0.11927684977509811,0.09748742254023553,0.09741754881455503,0.09554590464225576,0.08668308747166248,0.08140742923550709,0.08038718988740828,0.06825596105346725,0.06667961693786773,0.0642539775889291,0.06237732436724253,0.06217655956762915,0.061662917336804485,0.05094136371858742,0.0492490235000974,0.04784202513954641,0.04589455273287743,0.043331249321504985,0.04180597405848735,0.03931635511243969,1.4108516910914075]}],                        {\"legend\":{\"tracegroupgap\":0},\"margin\":{\"t\":60},\"template\":{\"data\":{\"bar\":[{\"error_x\":{\"color\":\"#2a3f5f\"},\"error_y\":{\"color\":\"#2a3f5f\"},\"marker\":{\"line\":{\"color\":\"#E5ECF6\",\"width\":0.5},\"pattern\":{\"fillmode\":\"overlay\",\"size\":10,\"solidity\":0.2}},\"type\":\"bar\"}],\"barpolar\":[{\"marker\":{\"line\":{\"color\":\"#E5ECF6\",\"width\":0.5},\"pattern\":{\"fillmode\":\"overlay\",\"size\":10,\"solidity\":0.2}},\"type\":\"barpolar\"}],\"carpet\":[{\"aaxis\":{\"endlinecolor\":\"#2a3f5f\",\"gridcolor\":\"white\",\"linecolor\":\"white\",\"minorgridcolor\":\"white\",\"startlinecolor\":\"#2a3f5f\"},\"baxis\":{\"endlinecolor\":\"#2a3f5f\",\"gridcolor\":\"white\",\"linecolor\":\"white\",\"minorgridcolor\":\"white\",\"startlinecolor\":\"#2a3f5f\"},\"type\":\"carpet\"}],\"choropleth\":[{\"colorbar\":{\"outlinewidth\":0,\"ticks\":\"\"},\"type\":\"choropleth\"}],\"contour\":[{\"colorbar\":{\"outlinewidth\":0,\"ticks\":\"\"},\"colorscale\":[[0.0,\"#0d0887\"],[0.1111111111111111,\"#46039f\"],[0.2222222222222222,\"#7201a8\"],[0.3333333333333333,\"#9c179e\"],[0.4444444444444444,\"#bd3786\"],[0.5555555555555556,\"#d8576b\"],[0.6666666666666666,\"#ed7953\"],[0.7777777777777778,\"#fb9f3a\"],[0.8888888888888888,\"#fdca26\"],[1.0,\"#f0f921\"]],\"type\":\"contour\"}],\"contourcarpet\":[{\"colorbar\":{\"outlinewidth\":0,\"ticks\":\"\"},\"type\":\"contourcarpet\"}],\"heatmap\":[{\"colorbar\":{\"outlinewidth\":0,\"ticks\":\"\"},\"colorscale\":[[0.0,\"#0d0887\"],[0.1111111111111111,\"#46039f\"],[0.2222222222222222,\"#7201a8\"],[0.3333333333333333,\"#9c179e\"],[0.4444444444444444,\"#bd3786\"],[0.5555555555555556,\"#d8576b\"],[0.6666666666666666,\"#ed7953\"],[0.7777777777777778,\"#fb9f3a\"],[0.8888888888888888,\"#fdca26\"],[1.0,\"#f0f921\"]],\"type\":\"heatmap\"}],\"heatmapgl\":[{\"colorbar\":{\"outlinewidth\":0,\"ticks\":\"\"},\"colorscale\":[[0.0,\"#0d0887\"],[0.1111111111111111,\"#46039f\"],[0.2222222222222222,\"#7201a8\"],[0.3333333333333333,\"#9c179e\"],[0.4444444444444444,\"#bd3786\"],[0.5555555555555556,\"#d8576b\"],[0.6666666666666666,\"#ed7953\"],[0.7777777777777778,\"#fb9f3a\"],[0.8888888888888888,\"#fdca26\"],[1.0,\"#f0f921\"]],\"type\":\"heatmapgl\"}],\"histogram\":[{\"marker\":{\"pattern\":{\"fillmode\":\"overlay\",\"size\":10,\"solidity\":0.2}},\"type\":\"histogram\"}],\"histogram2d\":[{\"colorbar\":{\"outlinewidth\":0,\"ticks\":\"\"},\"colorscale\":[[0.0,\"#0d0887\"],[0.1111111111111111,\"#46039f\"],[0.2222222222222222,\"#7201a8\"],[0.3333333333333333,\"#9c179e\"],[0.4444444444444444,\"#bd3786\"],[0.5555555555555556,\"#d8576b\"],[0.6666666666666666,\"#ed7953\"],[0.7777777777777778,\"#fb9f3a\"],[0.8888888888888888,\"#fdca26\"],[1.0,\"#f0f921\"]],\"type\":\"histogram2d\"}],\"histogram2dcontour\":[{\"colorbar\":{\"outlinewidth\":0,\"ticks\":\"\"},\"colorscale\":[[0.0,\"#0d0887\"],[0.1111111111111111,\"#46039f\"],[0.2222222222222222,\"#7201a8\"],[0.3333333333333333,\"#9c179e\"],[0.4444444444444444,\"#bd3786\"],[0.5555555555555556,\"#d8576b\"],[0.6666666666666666,\"#ed7953\"],[0.7777777777777778,\"#fb9f3a\"],[0.8888888888888888,\"#fdca26\"],[1.0,\"#f0f921\"]],\"type\":\"histogram2dcontour\"}],\"mesh3d\":[{\"colorbar\":{\"outlinewidth\":0,\"ticks\":\"\"},\"type\":\"mesh3d\"}],\"parcoords\":[{\"line\":{\"colorbar\":{\"outlinewidth\":0,\"ticks\":\"\"}},\"type\":\"parcoords\"}],\"pie\":[{\"automargin\":true,\"type\":\"pie\"}],\"scatter\":[{\"marker\":{\"colorbar\":{\"outlinewidth\":0,\"ticks\":\"\"}},\"type\":\"scatter\"}],\"scatter3d\":[{\"line\":{\"colorbar\":{\"outlinewidth\":0,\"ticks\":\"\"}},\"marker\":{\"colorbar\":{\"outlinewidth\":0,\"ticks\":\"\"}},\"type\":\"scatter3d\"}],\"scattercarpet\":[{\"marker\":{\"colorbar\":{\"outlinewidth\":0,\"ticks\":\"\"}},\"type\":\"scattercarpet\"}],\"scattergeo\":[{\"marker\":{\"colorbar\":{\"outlinewidth\":0,\"ticks\":\"\"}},\"type\":\"scattergeo\"}],\"scattergl\":[{\"marker\":{\"colorbar\":{\"outlinewidth\":0,\"ticks\":\"\"}},\"type\":\"scattergl\"}],\"scattermapbox\":[{\"marker\":{\"colorbar\":{\"outlinewidth\":0,\"ticks\":\"\"}},\"type\":\"scattermapbox\"}],\"scatterpolar\":[{\"marker\":{\"colorbar\":{\"outlinewidth\":0,\"ticks\":\"\"}},\"type\":\"scatterpolar\"}],\"scatterpolargl\":[{\"marker\":{\"colorbar\":{\"outlinewidth\":0,\"ticks\":\"\"}},\"type\":\"scatterpolargl\"}],\"scatterternary\":[{\"marker\":{\"colorbar\":{\"outlinewidth\":0,\"ticks\":\"\"}},\"type\":\"scatterternary\"}],\"surface\":[{\"colorbar\":{\"outlinewidth\":0,\"ticks\":\"\"},\"colorscale\":[[0.0,\"#0d0887\"],[0.1111111111111111,\"#46039f\"],[0.2222222222222222,\"#7201a8\"],[0.3333333333333333,\"#9c179e\"],[0.4444444444444444,\"#bd3786\"],[0.5555555555555556,\"#d8576b\"],[0.6666666666666666,\"#ed7953\"],[0.7777777777777778,\"#fb9f3a\"],[0.8888888888888888,\"#fdca26\"],[1.0,\"#f0f921\"]],\"type\":\"surface\"}],\"table\":[{\"cells\":{\"fill\":{\"color\":\"#EBF0F8\"},\"line\":{\"color\":\"white\"}},\"header\":{\"fill\":{\"color\":\"#C8D4E3\"},\"line\":{\"color\":\"white\"}},\"type\":\"table\"}]},\"layout\":{\"annotationdefaults\":{\"arrowcolor\":\"#2a3f5f\",\"arrowhead\":0,\"arrowwidth\":1},\"autotypenumbers\":\"strict\",\"coloraxis\":{\"colorbar\":{\"outlinewidth\":0,\"ticks\":\"\"}},\"colorscale\":{\"diverging\":[[0,\"#8e0152\"],[0.1,\"#c51b7d\"],[0.2,\"#de77ae\"],[0.3,\"#f1b6da\"],[0.4,\"#fde0ef\"],[0.5,\"#f7f7f7\"],[0.6,\"#e6f5d0\"],[0.7,\"#b8e186\"],[0.8,\"#7fbc41\"],[0.9,\"#4d9221\"],[1,\"#276419\"]],\"sequential\":[[0.0,\"#0d0887\"],[0.1111111111111111,\"#46039f\"],[0.2222222222222222,\"#7201a8\"],[0.3333333333333333,\"#9c179e\"],[0.4444444444444444,\"#bd3786\"],[0.5555555555555556,\"#d8576b\"],[0.6666666666666666,\"#ed7953\"],[0.7777777777777778,\"#fb9f3a\"],[0.8888888888888888,\"#fdca26\"],[1.0,\"#f0f921\"]],\"sequentialminus\":[[0.0,\"#0d0887\"],[0.1111111111111111,\"#46039f\"],[0.2222222222222222,\"#7201a8\"],[0.3333333333333333,\"#9c179e\"],[0.4444444444444444,\"#bd3786\"],[0.5555555555555556,\"#d8576b\"],[0.6666666666666666,\"#ed7953\"],[0.7777777777777778,\"#fb9f3a\"],[0.8888888888888888,\"#fdca26\"],[1.0,\"#f0f921\"]]},\"colorway\":[\"#636efa\",\"#EF553B\",\"#00cc96\",\"#ab63fa\",\"#FFA15A\",\"#19d3f3\",\"#FF6692\",\"#B6E880\",\"#FF97FF\",\"#FECB52\"],\"font\":{\"color\":\"#2a3f5f\"},\"geo\":{\"bgcolor\":\"white\",\"lakecolor\":\"white\",\"landcolor\":\"#E5ECF6\",\"showlakes\":true,\"showland\":true,\"subunitcolor\":\"white\"},\"hoverlabel\":{\"align\":\"left\"},\"hovermode\":\"closest\",\"mapbox\":{\"style\":\"light\"},\"paper_bgcolor\":\"white\",\"plot_bgcolor\":\"#E5ECF6\",\"polar\":{\"angularaxis\":{\"gridcolor\":\"white\",\"linecolor\":\"white\",\"ticks\":\"\"},\"bgcolor\":\"#E5ECF6\",\"radialaxis\":{\"gridcolor\":\"white\",\"linecolor\":\"white\",\"ticks\":\"\"}},\"scene\":{\"xaxis\":{\"backgroundcolor\":\"#E5ECF6\",\"gridcolor\":\"white\",\"gridwidth\":2,\"linecolor\":\"white\",\"showbackground\":true,\"ticks\":\"\",\"zerolinecolor\":\"white\"},\"yaxis\":{\"backgroundcolor\":\"#E5ECF6\",\"gridcolor\":\"white\",\"gridwidth\":2,\"linecolor\":\"white\",\"showbackground\":true,\"ticks\":\"\",\"zerolinecolor\":\"white\"},\"zaxis\":{\"backgroundcolor\":\"#E5ECF6\",\"gridcolor\":\"white\",\"gridwidth\":2,\"linecolor\":\"white\",\"showbackground\":true,\"ticks\":\"\",\"zerolinecolor\":\"white\"}},\"shapedefaults\":{\"line\":{\"color\":\"#2a3f5f\"}},\"ternary\":{\"aaxis\":{\"gridcolor\":\"white\",\"linecolor\":\"white\",\"ticks\":\"\"},\"baxis\":{\"gridcolor\":\"white\",\"linecolor\":\"white\",\"ticks\":\"\"},\"bgcolor\":\"#E5ECF6\",\"caxis\":{\"gridcolor\":\"white\",\"linecolor\":\"white\",\"ticks\":\"\"}},\"title\":{\"x\":0.05},\"xaxis\":{\"automargin\":true,\"gridcolor\":\"white\",\"linecolor\":\"white\",\"ticks\":\"\",\"title\":{\"standoff\":15},\"zerolinecolor\":\"white\",\"zerolinewidth\":2},\"yaxis\":{\"automargin\":true,\"gridcolor\":\"white\",\"linecolor\":\"white\",\"ticks\":\"\",\"title\":{\"standoff\":15},\"zerolinecolor\":\"white\",\"zerolinewidth\":2}}}},                        {\"responsive\": true}                    ).then(function(){\n",
       "                            \n",
       "var gd = document.getElementById('2d9efd14-2b3d-4f12-bd18-73e5ad2be164');\n",
       "var x = new MutationObserver(function (mutations, observer) {{\n",
       "        var display = window.getComputedStyle(gd).display;\n",
       "        if (!display || display === 'none') {{\n",
       "            console.log([gd, 'removed!']);\n",
       "            Plotly.purge(gd);\n",
       "            observer.disconnect();\n",
       "        }}\n",
       "}});\n",
       "\n",
       "// Listen for the removal of the full notebook cells\n",
       "var notebookContainer = gd.closest('#notebook-container');\n",
       "if (notebookContainer) {{\n",
       "    x.observe(notebookContainer, {childList: true});\n",
       "}}\n",
       "\n",
       "// Listen for the clearing of the current output cell\n",
       "var outputEl = gd.closest('.output');\n",
       "if (outputEl) {{\n",
       "    x.observe(outputEl, {childList: true});\n",
       "}}\n",
       "\n",
       "                        })                };                });            </script>        </div>"
      ]
     },
     "metadata": {},
     "output_type": "display_data"
    }
   ],
   "source": [
    "fig = px.pie(top20Df, values=0, names='body part')\n",
    "fig.update_traces(textposition='inside', textinfo='percent+label')\n",
    "fig.write_html('../includes/bodyPartSums.html')\n",
    "fig.show()"
   ]
  },
  {
   "cell_type": "code",
   "execution_count": 126,
   "id": "734229ac-36cf-4967-8754-719ccd7151d2",
   "metadata": {
    "collapsed": true,
    "jupyter": {
     "outputs_hidden": true
    },
    "tags": []
   },
   "outputs": [
    {
     "data": {
      "text/plain": [
       "hand.n.01           1.386295\n",
       "eye.n.01            0.797158\n",
       "face.n.01           0.468804\n",
       "head.n.01           0.374718\n",
       "arm.n.01            0.251589\n",
       "shoulder.n.01       0.219526\n",
       "finger.n.01         0.164217\n",
       "lip.n.01            0.162536\n",
       "back.n.01           0.158255\n",
       "foot.n.01           0.125586\n",
       "buttocks.n.01       0.119277\n",
       "auricle.n.02        0.097487\n",
       "neck.n.01           0.097418\n",
       "brow.n.01           0.095546\n",
       "stifle.n.01         0.086683\n",
       "cheek.n.01          0.081407\n",
       "mouth.n.01          0.080387\n",
       "bone.n.01           0.068256\n",
       "breast.n.02         0.066680\n",
       "torso.n.01          0.064254\n",
       "tooth.n.01          0.062377\n",
       "countenance.n.03    0.062177\n",
       "throat.n.01         0.061663\n",
       "chin.n.01           0.050941\n",
       "heart.n.02          0.049249\n",
       "feature.n.02        0.047842\n",
       "knee.n.01           0.045895\n",
       "ear.n.01            0.043331\n",
       "mouth.n.02          0.041806\n",
       "hair.n.03           0.039316\n",
       "dtype: float64"
      ]
     },
     "execution_count": 126,
     "metadata": {},
     "output_type": "execute_result"
    }
   ],
   "source": [
    "top20"
   ]
  },
  {
   "cell_type": "code",
   "execution_count": 205,
   "id": "adc5c068-7af6-4d93-98c3-5aaf43a9b2a7",
   "metadata": {},
   "outputs": [],
   "source": [
    "bodyPoints = [(\"hand.n.01\", 53, 562), (\"eye.n.01\", 200, 75), (\"face.n.01\", 220, 50),\n",
    "              (\"head.n.01\", 220, 20), (\"arm.n.01\", 122,336), (\"shoulder.n.01\", 133, 209),\n",
    "              (\"finger.n.01\", 50, 616), (\"lip.n.01\", 220, 120), (\"back.n.01\", 220, 256), \n",
    "              (\"foot.n.01\", 156, 956), (\"buttocks.n.01\", 181, 556), (\"auricle.n.02\", 170, 92),\n",
    "              (\"neck.n.01\", 220,175), (\"brow.n.01\", 240, 50), (\"stifle.n.01\", 174, 766),\n",
    "              (\"cheek.n.01\", 240, 100), (\"mouth.n.01\", 240, 110), (\"breast.n.02\", 180, 304),\n",
    "              (\"torso.n.01\", 220, 320), (\"tooth.n.01\", 240, 105), (\"throat.n.01\", 220, 170),\n",
    "              (\"chin.n.01\", 220, 120), (\"heart.n.02\", 280, 267), (\"hair.n.03\", 240, 18)]\n"
   ]
  },
  {
   "cell_type": "code",
   "execution_count": 206,
   "id": "817da0e9-dd3c-470b-ba7d-38a41b91183a",
   "metadata": {},
   "outputs": [],
   "source": [
    "def getSize(name):\n",
    "    return top20[name] * 30"
   ]
  },
  {
   "cell_type": "code",
   "execution_count": 207,
   "id": "efa8c02a-3146-483b-a02d-124d5a9e468d",
   "metadata": {
    "tags": []
   },
   "outputs": [
    {
     "data": {
      "application/vnd.plotly.v1+json": {
       "config": {
        "plotlyServerURL": "https://plot.ly"
       },
       "data": [
        {
         "hovertemplate": "x: %{x}<br>y: %{y}<br>color: %{z}<extra></extra>",
         "name": "0",
         "source": "data:image/png;base64,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",
         "type": "image",
         "xaxis": "x",
         "yaxis": "y"
        },
        {
         "marker": {
          "color": "red",
          "opacity": 0.5,
          "size": 41.588850437308494
         },
         "name": "hand.n.01",
         "type": "scatter",
         "x": [
          53
         ],
         "y": [
          562
         ]
        },
        {
         "marker": {
          "color": "red",
          "opacity": 0.5,
          "size": 23.91474103088205
         },
         "name": "eye.n.01",
         "type": "scatter",
         "x": [
          200
         ],
         "y": [
          75
         ]
        },
        {
         "marker": {
          "color": "red",
          "opacity": 0.5,
          "size": 14.064126608284232
         },
         "name": "face.n.01",
         "type": "scatter",
         "x": [
          220
         ],
         "y": [
          50
         ]
        },
        {
         "marker": {
          "color": "red",
          "opacity": 0.5,
          "size": 11.241529410680736
         },
         "name": "head.n.01",
         "type": "scatter",
         "x": [
          220
         ],
         "y": [
          20
         ]
        },
        {
         "marker": {
          "color": "red",
          "opacity": 0.5,
          "size": 7.547671783905385
         },
         "name": "arm.n.01",
         "type": "scatter",
         "x": [
          122
         ],
         "y": [
          336
         ]
        },
        {
         "marker": {
          "color": "red",
          "opacity": 0.5,
          "size": 6.58576554713319
         },
         "name": "shoulder.n.01",
         "type": "scatter",
         "x": [
          133
         ],
         "y": [
          209
         ]
        },
        {
         "marker": {
          "color": "red",
          "opacity": 0.5,
          "size": 4.926504686323269
         },
         "name": "finger.n.01",
         "type": "scatter",
         "x": [
          50
         ],
         "y": [
          616
         ]
        },
        {
         "marker": {
          "color": "red",
          "opacity": 0.5,
          "size": 4.876081291367771
         },
         "name": "lip.n.01",
         "type": "scatter",
         "x": [
          220
         ],
         "y": [
          120
         ]
        },
        {
         "marker": {
          "color": "red",
          "opacity": 0.5,
          "size": 4.747654666273372
         },
         "name": "back.n.01",
         "type": "scatter",
         "x": [
          220
         ],
         "y": [
          256
         ]
        },
        {
         "marker": {
          "color": "red",
          "opacity": 0.5,
          "size": 3.7675885368463593
         },
         "name": "foot.n.01",
         "type": "scatter",
         "x": [
          156
         ],
         "y": [
          956
         ]
        },
        {
         "marker": {
          "color": "red",
          "opacity": 0.5,
          "size": 3.5783054932529437
         },
         "name": "buttocks.n.01",
         "type": "scatter",
         "x": [
          181
         ],
         "y": [
          556
         ]
        },
        {
         "marker": {
          "color": "red",
          "opacity": 0.5,
          "size": 2.9246226762070657
         },
         "name": "auricle.n.02",
         "type": "scatter",
         "x": [
          170
         ],
         "y": [
          92
         ]
        },
        {
         "marker": {
          "color": "red",
          "opacity": 0.5,
          "size": 2.922526464436651
         },
         "name": "neck.n.01",
         "type": "scatter",
         "x": [
          220
         ],
         "y": [
          175
         ]
        },
        {
         "marker": {
          "color": "red",
          "opacity": 0.5,
          "size": 2.866377139267673
         },
         "name": "brow.n.01",
         "type": "scatter",
         "x": [
          240
         ],
         "y": [
          50
         ]
        },
        {
         "marker": {
          "color": "red",
          "opacity": 0.5,
          "size": 2.6004926241498745
         },
         "name": "stifle.n.01",
         "type": "scatter",
         "x": [
          174
         ],
         "y": [
          766
         ]
        },
        {
         "marker": {
          "color": "red",
          "opacity": 0.5,
          "size": 2.4422228770652126
         },
         "name": "cheek.n.01",
         "type": "scatter",
         "x": [
          240
         ],
         "y": [
          100
         ]
        },
        {
         "marker": {
          "color": "red",
          "opacity": 0.5,
          "size": 2.4116156966222486
         },
         "name": "mouth.n.01",
         "type": "scatter",
         "x": [
          240
         ],
         "y": [
          110
         ]
        },
        {
         "marker": {
          "color": "red",
          "opacity": 0.5,
          "size": 2.000388508136032
         },
         "name": "breast.n.02",
         "type": "scatter",
         "x": [
          180
         ],
         "y": [
          304
         ]
        },
        {
         "marker": {
          "color": "red",
          "opacity": 0.5,
          "size": 1.927619327667873
         },
         "name": "torso.n.01",
         "type": "scatter",
         "x": [
          220
         ],
         "y": [
          320
         ]
        },
        {
         "marker": {
          "color": "red",
          "opacity": 0.5,
          "size": 1.871319731017276
         },
         "name": "tooth.n.01",
         "type": "scatter",
         "x": [
          240
         ],
         "y": [
          105
         ]
        },
        {
         "marker": {
          "color": "red",
          "opacity": 0.5,
          "size": 1.8498875201041345
         },
         "name": "throat.n.01",
         "type": "scatter",
         "x": [
          220
         ],
         "y": [
          170
         ]
        },
        {
         "marker": {
          "color": "red",
          "opacity": 0.5,
          "size": 1.5282409115576228
         },
         "name": "chin.n.01",
         "type": "scatter",
         "x": [
          220
         ],
         "y": [
          120
         ]
        },
        {
         "marker": {
          "color": "red",
          "opacity": 0.5,
          "size": 1.4774707050029219
         },
         "name": "heart.n.02",
         "type": "scatter",
         "x": [
          280
         ],
         "y": [
          267
         ]
        },
        {
         "marker": {
          "color": "red",
          "opacity": 0.5,
          "size": 1.1794906533731906
         },
         "name": "hair.n.03",
         "type": "scatter",
         "x": [
          240
         ],
         "y": [
          18
         ]
        }
       ],
       "layout": {
        "autosize": true,
        "dragmode": "pan",
        "margin": {
         "t": 60
        },
        "template": {
         "data": {
          "bar": [
           {
            "error_x": {
             "color": "#2a3f5f"
            },
            "error_y": {
             "color": "#2a3f5f"
            },
            "marker": {
             "line": {
              "color": "#E5ECF6",
              "width": 0.5
             },
             "pattern": {
              "fillmode": "overlay",
              "size": 10,
              "solidity": 0.2
             }
            },
            "type": "bar"
           }
          ],
          "barpolar": [
           {
            "marker": {
             "line": {
              "color": "#E5ECF6",
              "width": 0.5
             },
             "pattern": {
              "fillmode": "overlay",
              "size": 10,
              "solidity": 0.2
             }
            },
            "type": "barpolar"
           }
          ],
          "carpet": [
           {
            "aaxis": {
             "endlinecolor": "#2a3f5f",
             "gridcolor": "white",
             "linecolor": "white",
             "minorgridcolor": "white",
             "startlinecolor": "#2a3f5f"
            },
            "baxis": {
             "endlinecolor": "#2a3f5f",
             "gridcolor": "white",
             "linecolor": "white",
             "minorgridcolor": "white",
             "startlinecolor": "#2a3f5f"
            },
            "type": "carpet"
           }
          ],
          "choropleth": [
           {
            "colorbar": {
             "outlinewidth": 0,
             "ticks": ""
            },
            "type": "choropleth"
           }
          ],
          "contour": [
           {
            "colorbar": {
             "outlinewidth": 0,
             "ticks": ""
            },
            "colorscale": [
             [
              0,
              "#0d0887"
             ],
             [
              0.1111111111111111,
              "#46039f"
             ],
             [
              0.2222222222222222,
              "#7201a8"
             ],
             [
              0.3333333333333333,
              "#9c179e"
             ],
             [
              0.4444444444444444,
              "#bd3786"
             ],
             [
              0.5555555555555556,
              "#d8576b"
             ],
             [
              0.6666666666666666,
              "#ed7953"
             ],
             [
              0.7777777777777778,
              "#fb9f3a"
             ],
             [
              0.8888888888888888,
              "#fdca26"
             ],
             [
              1,
              "#f0f921"
             ]
            ],
            "type": "contour"
           }
          ],
          "contourcarpet": [
           {
            "colorbar": {
             "outlinewidth": 0,
             "ticks": ""
            },
            "type": "contourcarpet"
           }
          ],
          "heatmap": [
           {
            "colorbar": {
             "outlinewidth": 0,
             "ticks": ""
            },
            "colorscale": [
             [
              0,
              "#0d0887"
             ],
             [
              0.1111111111111111,
              "#46039f"
             ],
             [
              0.2222222222222222,
              "#7201a8"
             ],
             [
              0.3333333333333333,
              "#9c179e"
             ],
             [
              0.4444444444444444,
              "#bd3786"
             ],
             [
              0.5555555555555556,
              "#d8576b"
             ],
             [
              0.6666666666666666,
              "#ed7953"
             ],
             [
              0.7777777777777778,
              "#fb9f3a"
             ],
             [
              0.8888888888888888,
              "#fdca26"
             ],
             [
              1,
              "#f0f921"
             ]
            ],
            "type": "heatmap"
           }
          ],
          "heatmapgl": [
           {
            "colorbar": {
             "outlinewidth": 0,
             "ticks": ""
            },
            "colorscale": [
             [
              0,
              "#0d0887"
             ],
             [
              0.1111111111111111,
              "#46039f"
             ],
             [
              0.2222222222222222,
              "#7201a8"
             ],
             [
              0.3333333333333333,
              "#9c179e"
             ],
             [
              0.4444444444444444,
              "#bd3786"
             ],
             [
              0.5555555555555556,
              "#d8576b"
             ],
             [
              0.6666666666666666,
              "#ed7953"
             ],
             [
              0.7777777777777778,
              "#fb9f3a"
             ],
             [
              0.8888888888888888,
              "#fdca26"
             ],
             [
              1,
              "#f0f921"
             ]
            ],
            "type": "heatmapgl"
           }
          ],
          "histogram": [
           {
            "marker": {
             "pattern": {
              "fillmode": "overlay",
              "size": 10,
              "solidity": 0.2
             }
            },
            "type": "histogram"
           }
          ],
          "histogram2d": [
           {
            "colorbar": {
             "outlinewidth": 0,
             "ticks": ""
            },
            "colorscale": [
             [
              0,
              "#0d0887"
             ],
             [
              0.1111111111111111,
              "#46039f"
             ],
             [
              0.2222222222222222,
              "#7201a8"
             ],
             [
              0.3333333333333333,
              "#9c179e"
             ],
             [
              0.4444444444444444,
              "#bd3786"
             ],
             [
              0.5555555555555556,
              "#d8576b"
             ],
             [
              0.6666666666666666,
              "#ed7953"
             ],
             [
              0.7777777777777778,
              "#fb9f3a"
             ],
             [
              0.8888888888888888,
              "#fdca26"
             ],
             [
              1,
              "#f0f921"
             ]
            ],
            "type": "histogram2d"
           }
          ],
          "histogram2dcontour": [
           {
            "colorbar": {
             "outlinewidth": 0,
             "ticks": ""
            },
            "colorscale": [
             [
              0,
              "#0d0887"
             ],
             [
              0.1111111111111111,
              "#46039f"
             ],
             [
              0.2222222222222222,
              "#7201a8"
             ],
             [
              0.3333333333333333,
              "#9c179e"
             ],
             [
              0.4444444444444444,
              "#bd3786"
             ],
             [
              0.5555555555555556,
              "#d8576b"
             ],
             [
              0.6666666666666666,
              "#ed7953"
             ],
             [
              0.7777777777777778,
              "#fb9f3a"
             ],
             [
              0.8888888888888888,
              "#fdca26"
             ],
             [
              1,
              "#f0f921"
             ]
            ],
            "type": "histogram2dcontour"
           }
          ],
          "mesh3d": [
           {
            "colorbar": {
             "outlinewidth": 0,
             "ticks": ""
            },
            "type": "mesh3d"
           }
          ],
          "parcoords": [
           {
            "line": {
             "colorbar": {
              "outlinewidth": 0,
              "ticks": ""
             }
            },
            "type": "parcoords"
           }
          ],
          "pie": [
           {
            "automargin": true,
            "type": "pie"
           }
          ],
          "scatter": [
           {
            "marker": {
             "colorbar": {
              "outlinewidth": 0,
              "ticks": ""
             }
            },
            "type": "scatter"
           }
          ],
          "scatter3d": [
           {
            "line": {
             "colorbar": {
              "outlinewidth": 0,
              "ticks": ""
             }
            },
            "marker": {
             "colorbar": {
              "outlinewidth": 0,
              "ticks": ""
             }
            },
            "type": "scatter3d"
           }
          ],
          "scattercarpet": [
           {
            "marker": {
             "colorbar": {
              "outlinewidth": 0,
              "ticks": ""
             }
            },
            "type": "scattercarpet"
           }
          ],
          "scattergeo": [
           {
            "marker": {
             "colorbar": {
              "outlinewidth": 0,
              "ticks": ""
             }
            },
            "type": "scattergeo"
           }
          ],
          "scattergl": [
           {
            "marker": {
             "colorbar": {
              "outlinewidth": 0,
              "ticks": ""
             }
            },
            "type": "scattergl"
           }
          ],
          "scattermapbox": [
           {
            "marker": {
             "colorbar": {
              "outlinewidth": 0,
              "ticks": ""
             }
            },
            "type": "scattermapbox"
           }
          ],
          "scatterpolar": [
           {
            "marker": {
             "colorbar": {
              "outlinewidth": 0,
              "ticks": ""
             }
            },
            "type": "scatterpolar"
           }
          ],
          "scatterpolargl": [
           {
            "marker": {
             "colorbar": {
              "outlinewidth": 0,
              "ticks": ""
             }
            },
            "type": "scatterpolargl"
           }
          ],
          "scatterternary": [
           {
            "marker": {
             "colorbar": {
              "outlinewidth": 0,
              "ticks": ""
             }
            },
            "type": "scatterternary"
           }
          ],
          "surface": [
           {
            "colorbar": {
             "outlinewidth": 0,
             "ticks": ""
            },
            "colorscale": [
             [
              0,
              "#0d0887"
             ],
             [
              0.1111111111111111,
              "#46039f"
             ],
             [
              0.2222222222222222,
              "#7201a8"
             ],
             [
              0.3333333333333333,
              "#9c179e"
             ],
             [
              0.4444444444444444,
              "#bd3786"
             ],
             [
              0.5555555555555556,
              "#d8576b"
             ],
             [
              0.6666666666666666,
              "#ed7953"
             ],
             [
              0.7777777777777778,
              "#fb9f3a"
             ],
             [
              0.8888888888888888,
              "#fdca26"
             ],
             [
              1,
              "#f0f921"
             ]
            ],
            "type": "surface"
           }
          ],
          "table": [
           {
            "cells": {
             "fill": {
              "color": "#EBF0F8"
             },
             "line": {
              "color": "white"
             }
            },
            "header": {
             "fill": {
              "color": "#C8D4E3"
             },
             "line": {
              "color": "white"
             }
            },
            "type": "table"
           }
          ]
         },
         "layout": {
          "annotationdefaults": {
           "arrowcolor": "#2a3f5f",
           "arrowhead": 0,
           "arrowwidth": 1
          },
          "autotypenumbers": "strict",
          "coloraxis": {
           "colorbar": {
            "outlinewidth": 0,
            "ticks": ""
           }
          },
          "colorscale": {
           "diverging": [
            [
             0,
             "#8e0152"
            ],
            [
             0.1,
             "#c51b7d"
            ],
            [
             0.2,
             "#de77ae"
            ],
            [
             0.3,
             "#f1b6da"
            ],
            [
             0.4,
             "#fde0ef"
            ],
            [
             0.5,
             "#f7f7f7"
            ],
            [
             0.6,
             "#e6f5d0"
            ],
            [
             0.7,
             "#b8e186"
            ],
            [
             0.8,
             "#7fbc41"
            ],
            [
             0.9,
             "#4d9221"
            ],
            [
             1,
             "#276419"
            ]
           ],
           "sequential": [
            [
             0,
             "#0d0887"
            ],
            [
             0.1111111111111111,
             "#46039f"
            ],
            [
             0.2222222222222222,
             "#7201a8"
            ],
            [
             0.3333333333333333,
             "#9c179e"
            ],
            [
             0.4444444444444444,
             "#bd3786"
            ],
            [
             0.5555555555555556,
             "#d8576b"
            ],
            [
             0.6666666666666666,
             "#ed7953"
            ],
            [
             0.7777777777777778,
             "#fb9f3a"
            ],
            [
             0.8888888888888888,
             "#fdca26"
            ],
            [
             1,
             "#f0f921"
            ]
           ],
           "sequentialminus": [
            [
             0,
             "#0d0887"
            ],
            [
             0.1111111111111111,
             "#46039f"
            ],
            [
             0.2222222222222222,
             "#7201a8"
            ],
            [
             0.3333333333333333,
             "#9c179e"
            ],
            [
             0.4444444444444444,
             "#bd3786"
            ],
            [
             0.5555555555555556,
             "#d8576b"
            ],
            [
             0.6666666666666666,
             "#ed7953"
            ],
            [
             0.7777777777777778,
             "#fb9f3a"
            ],
            [
             0.8888888888888888,
             "#fdca26"
            ],
            [
             1,
             "#f0f921"
            ]
           ]
          },
          "colorway": [
           "#636efa",
           "#EF553B",
           "#00cc96",
           "#ab63fa",
           "#FFA15A",
           "#19d3f3",
           "#FF6692",
           "#B6E880",
           "#FF97FF",
           "#FECB52"
          ],
          "font": {
           "color": "#2a3f5f"
          },
          "geo": {
           "bgcolor": "white",
           "lakecolor": "white",
           "landcolor": "#E5ECF6",
           "showlakes": true,
           "showland": true,
           "subunitcolor": "white"
          },
          "hoverlabel": {
           "align": "left"
          },
          "hovermode": "closest",
          "mapbox": {
           "style": "light"
          },
          "paper_bgcolor": "white",
          "plot_bgcolor": "#E5ECF6",
          "polar": {
           "angularaxis": {
            "gridcolor": "white",
            "linecolor": "white",
            "ticks": ""
           },
           "bgcolor": "#E5ECF6",
           "radialaxis": {
            "gridcolor": "white",
            "linecolor": "white",
            "ticks": ""
           }
          },
          "scene": {
           "xaxis": {
            "backgroundcolor": "#E5ECF6",
            "gridcolor": "white",
            "gridwidth": 2,
            "linecolor": "white",
            "showbackground": true,
            "ticks": "",
            "zerolinecolor": "white"
           },
           "yaxis": {
            "backgroundcolor": "#E5ECF6",
            "gridcolor": "white",
            "gridwidth": 2,
            "linecolor": "white",
            "showbackground": true,
            "ticks": "",
            "zerolinecolor": "white"
           },
           "zaxis": {
            "backgroundcolor": "#E5ECF6",
            "gridcolor": "white",
            "gridwidth": 2,
            "linecolor": "white",
            "showbackground": true,
            "ticks": "",
            "zerolinecolor": "white"
           }
          },
          "shapedefaults": {
           "line": {
            "color": "#2a3f5f"
           }
          },
          "ternary": {
           "aaxis": {
            "gridcolor": "white",
            "linecolor": "white",
            "ticks": ""
           },
           "baxis": {
            "gridcolor": "white",
            "linecolor": "white",
            "ticks": ""
           },
           "bgcolor": "#E5ECF6",
           "caxis": {
            "gridcolor": "white",
            "linecolor": "white",
            "ticks": ""
           }
          },
          "title": {
           "x": 0.05
          },
          "xaxis": {
           "automargin": true,
           "gridcolor": "white",
           "linecolor": "white",
           "ticks": "",
           "title": {
            "standoff": 15
           },
           "zerolinecolor": "white",
           "zerolinewidth": 2
          },
          "yaxis": {
           "automargin": true,
           "gridcolor": "white",
           "linecolor": "white",
           "ticks": "",
           "title": {
            "standoff": 15
           },
           "zerolinecolor": "white",
           "zerolinewidth": 2
          }
         }
        },
        "xaxis": {
         "anchor": "y",
         "autorange": false,
         "domain": [
          0.36692437133834266,
          0.6330756286616573
         ],
         "range": [
          -58.48946606864072,
          505.5825400369573
         ],
         "type": "linear"
        },
        "yaxis": {
         "anchor": "x",
         "autorange": false,
         "domain": [
          0,
          1
         ],
         "range": [
          1000.3504071809059,
          -72.15619248048205
         ],
         "type": "linear"
        }
       }
      },
      "image/png": "[encoded data removed]",
      "text/html": [
       "<div>                            <div id=\"065e9a09-f02e-4fae-a063-c90ee8092a62\" class=\"plotly-graph-div\" style=\"height:600px; width:100%;\"></div>            <script type=\"text/javascript\">                require([\"plotly\"], function(Plotly) {                    window.PLOTLYENV=window.PLOTLYENV || {};                                    if (document.getElementById(\"065e9a09-f02e-4fae-a063-c90ee8092a62\")) {                    Plotly.newPlot(                        \"065e9a09-f02e-4fae-a063-c90ee8092a62\",                        [{\"hovertemplate\":\"x: %{x}<br>y: %{y}<br>color: %{z}<extra></extra>\",\"name\":\"0\",\"source\":\"data:image/png;base64,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\",\"type\":\"image\",\"xaxis\":\"x\",\"yaxis\":\"y\"},{\"marker\":{\"color\":\"red\",\"opacity\":0.5,\"size\":41.588850437308494},\"name\":\"hand.n.01\",\"type\":\"scatter\",\"x\":[53],\"y\":[562]},{\"marker\":{\"color\":\"red\",\"opacity\":0.5,\"size\":23.91474103088205},\"name\":\"eye.n.01\",\"type\":\"scatter\",\"x\":[200],\"y\":[75]},{\"marker\":{\"color\":\"red\",\"opacity\":0.5,\"size\":14.064126608284232},\"name\":\"face.n.01\",\"type\":\"scatter\",\"x\":[220],\"y\":[50]},{\"marker\":{\"color\":\"red\",\"opacity\":0.5,\"size\":11.241529410680736},\"name\":\"head.n.01\",\"type\":\"scatter\",\"x\":[220],\"y\":[20]},{\"marker\":{\"color\":\"red\",\"opacity\":0.5,\"size\":7.547671783905385},\"name\":\"arm.n.01\",\"type\":\"scatter\",\"x\":[122],\"y\":[336]},{\"marker\":{\"color\":\"red\",\"opacity\":0.5,\"size\":6.58576554713319},\"name\":\"shoulder.n.01\",\"type\":\"scatter\",\"x\":[133],\"y\":[209]},{\"marker\":{\"color\":\"red\",\"opacity\":0.5,\"size\":4.926504686323269},\"name\":\"finger.n.01\",\"type\":\"scatter\",\"x\":[50],\"y\":[616]},{\"marker\":{\"color\":\"red\",\"opacity\":0.5,\"size\":4.876081291367771},\"name\":\"lip.n.01\",\"type\":\"scatter\",\"x\":[220],\"y\":[120]},{\"marker\":{\"color\":\"red\",\"opacity\":0.5,\"size\":4.747654666273372},\"name\":\"back.n.01\",\"type\":\"scatter\",\"x\":[220],\"y\":[256]},{\"marker\":{\"color\":\"red\",\"opacity\":0.5,\"size\":3.7675885368463593},\"name\":\"foot.n.01\",\"type\":\"scatter\",\"x\":[156],\"y\":[956]},{\"marker\":{\"color\":\"red\",\"opacity\":0.5,\"size\":3.5783054932529437},\"name\":\"buttocks.n.01\",\"type\":\"scatter\",\"x\":[181],\"y\":[556]},{\"marker\":{\"color\":\"red\",\"opacity\":0.5,\"size\":2.9246226762070657},\"name\":\"auricle.n.02\",\"type\":\"scatter\",\"x\":[170],\"y\":[92]},{\"marker\":{\"color\":\"red\",\"opacity\":0.5,\"size\":2.922526464436651},\"name\":\"neck.n.01\",\"type\":\"scatter\",\"x\":[220],\"y\":[175]},{\"marker\":{\"color\":\"red\",\"opacity\":0.5,\"size\":2.866377139267673},\"name\":\"brow.n.01\",\"type\":\"scatter\",\"x\":[240],\"y\":[50]},{\"marker\":{\"color\":\"red\",\"opacity\":0.5,\"size\":2.6004926241498745},\"name\":\"stifle.n.01\",\"type\":\"scatter\",\"x\":[174],\"y\":[766]},{\"marker\":{\"color\":\"red\",\"opacity\":0.5,\"size\":2.4422228770652126},\"name\":\"cheek.n.01\",\"type\":\"scatter\",\"x\":[240],\"y\":[100]},{\"marker\":{\"color\":\"red\",\"opacity\":0.5,\"size\":2.4116156966222486},\"name\":\"mouth.n.01\",\"type\":\"scatter\",\"x\":[240],\"y\":[110]},{\"marker\":{\"color\":\"red\",\"opacity\":0.5,\"size\":2.000388508136032},\"name\":\"breast.n.02\",\"type\":\"scatter\",\"x\":[180],\"y\":[304]},{\"marker\":{\"color\":\"red\",\"opacity\":0.5,\"size\":1.927619327667873},\"name\":\"torso.n.01\",\"type\":\"scatter\",\"x\":[220],\"y\":[320]},{\"marker\":{\"color\":\"red\",\"opacity\":0.5,\"size\":1.871319731017276},\"name\":\"tooth.n.01\",\"type\":\"scatter\",\"x\":[240],\"y\":[105]},{\"marker\":{\"color\":\"red\",\"opacity\":0.5,\"size\":1.8498875201041345},\"name\":\"throat.n.01\",\"type\":\"scatter\",\"x\":[220],\"y\":[170]},{\"marker\":{\"color\":\"red\",\"opacity\":0.5,\"size\":1.5282409115576228},\"name\":\"chin.n.01\",\"type\":\"scatter\",\"x\":[220],\"y\":[120]},{\"marker\":{\"color\":\"red\",\"opacity\":0.5,\"size\":1.4774707050029219},\"name\":\"heart.n.02\",\"type\":\"scatter\",\"x\":[280],\"y\":[267]},{\"marker\":{\"color\":\"red\",\"opacity\":0.5,\"size\":1.1794906533731906},\"name\":\"hair.n.03\",\"type\":\"scatter\",\"x\":[240],\"y\":[18]}],                        {\"height\":600,\"margin\":{\"t\":60},\"template\":{\"data\":{\"bar\":[{\"error_x\":{\"color\":\"#2a3f5f\"},\"error_y\":{\"color\":\"#2a3f5f\"},\"marker\":{\"line\":{\"color\":\"#E5ECF6\",\"width\":0.5},\"pattern\":{\"fillmode\":\"overlay\",\"size\":10,\"solidity\":0.2}},\"type\":\"bar\"}],\"barpolar\":[{\"marker\":{\"line\":{\"color\":\"#E5ECF6\",\"width\":0.5},\"pattern\":{\"fillmode\":\"overlay\",\"size\":10,\"solidity\":0.2}},\"type\":\"barpolar\"}],\"carpet\":[{\"aaxis\":{\"endlinecolor\":\"#2a3f5f\",\"gridcolor\":\"white\",\"linecolor\":\"white\",\"minorgridcolor\":\"white\",\"startlinecolor\":\"#2a3f5f\"},\"baxis\":{\"endlinecolor\":\"#2a3f5f\",\"gridcolor\":\"white\",\"linecolor\":\"white\",\"minorgridcolor\":\"white\",\"startlinecolor\":\"#2a3f5f\"},\"type\":\"carpet\"}],\"choropleth\":[{\"colorbar\":{\"outlinewidth\":0,\"ticks\":\"\"},\"type\":\"choropleth\"}],\"contour\":[{\"colorbar\":{\"outlinewidth\":0,\"ticks\":\"\"},\"colorscale\":[[0.0,\"#0d0887\"],[0.1111111111111111,\"#46039f\"],[0.2222222222222222,\"#7201a8\"],[0.3333333333333333,\"#9c179e\"],[0.4444444444444444,\"#bd3786\"],[0.5555555555555556,\"#d8576b\"],[0.6666666666666666,\"#ed7953\"],[0.7777777777777778,\"#fb9f3a\"],[0.8888888888888888,\"#fdca26\"],[1.0,\"#f0f921\"]],\"type\":\"contour\"}],\"contourcarpet\":[{\"colorbar\":{\"outlinewidth\":0,\"ticks\":\"\"},\"type\":\"contourcarpet\"}],\"heatmap\":[{\"colorbar\":{\"outlinewidth\":0,\"ticks\":\"\"},\"colorscale\":[[0.0,\"#0d0887\"],[0.1111111111111111,\"#46039f\"],[0.2222222222222222,\"#7201a8\"],[0.3333333333333333,\"#9c179e\"],[0.4444444444444444,\"#bd3786\"],[0.5555555555555556,\"#d8576b\"],[0.6666666666666666,\"#ed7953\"],[0.7777777777777778,\"#fb9f3a\"],[0.8888888888888888,\"#fdca26\"],[1.0,\"#f0f921\"]],\"type\":\"heatmap\"}],\"heatmapgl\":[{\"colorbar\":{\"outlinewidth\":0,\"ticks\":\"\"},\"colorscale\":[[0.0,\"#0d0887\"],[0.1111111111111111,\"#46039f\"],[0.2222222222222222,\"#7201a8\"],[0.3333333333333333,\"#9c179e\"],[0.4444444444444444,\"#bd3786\"],[0.5555555555555556,\"#d8576b\"],[0.6666666666666666,\"#ed7953\"],[0.7777777777777778,\"#fb9f3a\"],[0.8888888888888888,\"#fdca26\"],[1.0,\"#f0f921\"]],\"type\":\"heatmapgl\"}],\"histogram\":[{\"marker\":{\"pattern\":{\"fillmode\":\"overlay\",\"size\":10,\"solidity\":0.2}},\"type\":\"histogram\"}],\"histogram2d\":[{\"colorbar\":{\"outlinewidth\":0,\"ticks\":\"\"},\"colorscale\":[[0.0,\"#0d0887\"],[0.1111111111111111,\"#46039f\"],[0.2222222222222222,\"#7201a8\"],[0.3333333333333333,\"#9c179e\"],[0.4444444444444444,\"#bd3786\"],[0.5555555555555556,\"#d8576b\"],[0.6666666666666666,\"#ed7953\"],[0.7777777777777778,\"#fb9f3a\"],[0.8888888888888888,\"#fdca26\"],[1.0,\"#f0f921\"]],\"type\":\"histogram2d\"}],\"histogram2dcontour\":[{\"colorbar\":{\"outlinewidth\":0,\"ticks\":\"\"},\"colorscale\":[[0.0,\"#0d0887\"],[0.1111111111111111,\"#46039f\"],[0.2222222222222222,\"#7201a8\"],[0.3333333333333333,\"#9c179e\"],[0.4444444444444444,\"#bd3786\"],[0.5555555555555556,\"#d8576b\"],[0.6666666666666666,\"#ed7953\"],[0.7777777777777778,\"#fb9f3a\"],[0.8888888888888888,\"#fdca26\"],[1.0,\"#f0f921\"]],\"type\":\"histogram2dcontour\"}],\"mesh3d\":[{\"colorbar\":{\"outlinewidth\":0,\"ticks\":\"\"},\"type\":\"mesh3d\"}],\"parcoords\":[{\"line\":{\"colorbar\":{\"outlinewidth\":0,\"ticks\":\"\"}},\"type\":\"parcoords\"}],\"pie\":[{\"automargin\":true,\"type\":\"pie\"}],\"scatter\":[{\"marker\":{\"colorbar\":{\"outlinewidth\":0,\"ticks\":\"\"}},\"type\":\"scatter\"}],\"scatter3d\":[{\"line\":{\"colorbar\":{\"outlinewidth\":0,\"ticks\":\"\"}},\"marker\":{\"colorbar\":{\"outlinewidth\":0,\"ticks\":\"\"}},\"type\":\"scatter3d\"}],\"scattercarpet\":[{\"marker\":{\"colorbar\":{\"outlinewidth\":0,\"ticks\":\"\"}},\"type\":\"scattercarpet\"}],\"scattergeo\":[{\"marker\":{\"colorbar\":{\"outlinewidth\":0,\"ticks\":\"\"}},\"type\":\"scattergeo\"}],\"scattergl\":[{\"marker\":{\"colorbar\":{\"outlinewidth\":0,\"ticks\":\"\"}},\"type\":\"scattergl\"}],\"scattermapbox\":[{\"marker\":{\"colorbar\":{\"outlinewidth\":0,\"ticks\":\"\"}},\"type\":\"scattermapbox\"}],\"scatterpolar\":[{\"marker\":{\"colorbar\":{\"outlinewidth\":0,\"ticks\":\"\"}},\"type\":\"scatterpolar\"}],\"scatterpolargl\":[{\"marker\":{\"colorbar\":{\"outlinewidth\":0,\"ticks\":\"\"}},\"type\":\"scatterpolargl\"}],\"scatterternary\":[{\"marker\":{\"colorbar\":{\"outlinewidth\":0,\"ticks\":\"\"}},\"type\":\"scatterternary\"}],\"surface\":[{\"colorbar\":{\"outlinewidth\":0,\"ticks\":\"\"},\"colorscale\":[[0.0,\"#0d0887\"],[0.1111111111111111,\"#46039f\"],[0.2222222222222222,\"#7201a8\"],[0.3333333333333333,\"#9c179e\"],[0.4444444444444444,\"#bd3786\"],[0.5555555555555556,\"#d8576b\"],[0.6666666666666666,\"#ed7953\"],[0.7777777777777778,\"#fb9f3a\"],[0.8888888888888888,\"#fdca26\"],[1.0,\"#f0f921\"]],\"type\":\"surface\"}],\"table\":[{\"cells\":{\"fill\":{\"color\":\"#EBF0F8\"},\"line\":{\"color\":\"white\"}},\"header\":{\"fill\":{\"color\":\"#C8D4E3\"},\"line\":{\"color\":\"white\"}},\"type\":\"table\"}]},\"layout\":{\"annotationdefaults\":{\"arrowcolor\":\"#2a3f5f\",\"arrowhead\":0,\"arrowwidth\":1},\"autotypenumbers\":\"strict\",\"coloraxis\":{\"colorbar\":{\"outlinewidth\":0,\"ticks\":\"\"}},\"colorscale\":{\"diverging\":[[0,\"#8e0152\"],[0.1,\"#c51b7d\"],[0.2,\"#de77ae\"],[0.3,\"#f1b6da\"],[0.4,\"#fde0ef\"],[0.5,\"#f7f7f7\"],[0.6,\"#e6f5d0\"],[0.7,\"#b8e186\"],[0.8,\"#7fbc41\"],[0.9,\"#4d9221\"],[1,\"#276419\"]],\"sequential\":[[0.0,\"#0d0887\"],[0.1111111111111111,\"#46039f\"],[0.2222222222222222,\"#7201a8\"],[0.3333333333333333,\"#9c179e\"],[0.4444444444444444,\"#bd3786\"],[0.5555555555555556,\"#d8576b\"],[0.6666666666666666,\"#ed7953\"],[0.7777777777777778,\"#fb9f3a\"],[0.8888888888888888,\"#fdca26\"],[1.0,\"#f0f921\"]],\"sequentialminus\":[[0.0,\"#0d0887\"],[0.1111111111111111,\"#46039f\"],[0.2222222222222222,\"#7201a8\"],[0.3333333333333333,\"#9c179e\"],[0.4444444444444444,\"#bd3786\"],[0.5555555555555556,\"#d8576b\"],[0.6666666666666666,\"#ed7953\"],[0.7777777777777778,\"#fb9f3a\"],[0.8888888888888888,\"#fdca26\"],[1.0,\"#f0f921\"]]},\"colorway\":[\"#636efa\",\"#EF553B\",\"#00cc96\",\"#ab63fa\",\"#FFA15A\",\"#19d3f3\",\"#FF6692\",\"#B6E880\",\"#FF97FF\",\"#FECB52\"],\"font\":{\"color\":\"#2a3f5f\"},\"geo\":{\"bgcolor\":\"white\",\"lakecolor\":\"white\",\"landcolor\":\"#E5ECF6\",\"showlakes\":true,\"showland\":true,\"subunitcolor\":\"white\"},\"hoverlabel\":{\"align\":\"left\"},\"hovermode\":\"closest\",\"mapbox\":{\"style\":\"light\"},\"paper_bgcolor\":\"white\",\"plot_bgcolor\":\"#E5ECF6\",\"polar\":{\"angularaxis\":{\"gridcolor\":\"white\",\"linecolor\":\"white\",\"ticks\":\"\"},\"bgcolor\":\"#E5ECF6\",\"radialaxis\":{\"gridcolor\":\"white\",\"linecolor\":\"white\",\"ticks\":\"\"}},\"scene\":{\"xaxis\":{\"backgroundcolor\":\"#E5ECF6\",\"gridcolor\":\"white\",\"gridwidth\":2,\"linecolor\":\"white\",\"showbackground\":true,\"ticks\":\"\",\"zerolinecolor\":\"white\"},\"yaxis\":{\"backgroundcolor\":\"#E5ECF6\",\"gridcolor\":\"white\",\"gridwidth\":2,\"linecolor\":\"white\",\"showbackground\":true,\"ticks\":\"\",\"zerolinecolor\":\"white\"},\"zaxis\":{\"backgroundcolor\":\"#E5ECF6\",\"gridcolor\":\"white\",\"gridwidth\":2,\"linecolor\":\"white\",\"showbackground\":true,\"ticks\":\"\",\"zerolinecolor\":\"white\"}},\"shapedefaults\":{\"line\":{\"color\":\"#2a3f5f\"}},\"ternary\":{\"aaxis\":{\"gridcolor\":\"white\",\"linecolor\":\"white\",\"ticks\":\"\"},\"baxis\":{\"gridcolor\":\"white\",\"linecolor\":\"white\",\"ticks\":\"\"},\"bgcolor\":\"#E5ECF6\",\"caxis\":{\"gridcolor\":\"white\",\"linecolor\":\"white\",\"ticks\":\"\"}},\"title\":{\"x\":0.05},\"xaxis\":{\"automargin\":true,\"gridcolor\":\"white\",\"linecolor\":\"white\",\"ticks\":\"\",\"title\":{\"standoff\":15},\"zerolinecolor\":\"white\",\"zerolinewidth\":2},\"yaxis\":{\"automargin\":true,\"gridcolor\":\"white\",\"linecolor\":\"white\",\"ticks\":\"\",\"title\":{\"standoff\":15},\"zerolinecolor\":\"white\",\"zerolinewidth\":2}}},\"xaxis\":{\"anchor\":\"y\",\"domain\":[0.0,1.0]},\"yaxis\":{\"anchor\":\"x\",\"domain\":[0.0,1.0]}},                        {\"responsive\": true}                    ).then(function(){\n",
       "                            \n",
       "var gd = document.getElementById('065e9a09-f02e-4fae-a063-c90ee8092a62');\n",
       "var x = new MutationObserver(function (mutations, observer) {{\n",
       "        var display = window.getComputedStyle(gd).display;\n",
       "        if (!display || display === 'none') {{\n",
       "            console.log([gd, 'removed!']);\n",
       "            Plotly.purge(gd);\n",
       "            observer.disconnect();\n",
       "        }}\n",
       "}});\n",
       "\n",
       "// Listen for the removal of the full notebook cells\n",
       "var notebookContainer = gd.closest('#notebook-container');\n",
       "if (notebookContainer) {{\n",
       "    x.observe(notebookContainer, {childList: true});\n",
       "}}\n",
       "\n",
       "// Listen for the clearing of the current output cell\n",
       "var outputEl = gd.closest('.output');\n",
       "if (outputEl) {{\n",
       "    x.observe(outputEl, {childList: true});\n",
       "}}\n",
       "\n",
       "                        })                };                });            </script>        </div>"
      ]
     },
     "metadata": {},
     "output_type": "display_data"
    }
   ],
   "source": [
    "img = io.imread('Human_body_silhouette.svg.png')\n",
    "fig = px.imshow(img, height=600)\n",
    "for point in bodyPoints:\n",
    "    name, x, y = point\n",
    "    size = getSize(name)\n",
    "    fig.add_trace(go.Scatter(name=name, x=[x], y=[y], marker=dict(color='red', size=size, opacity=0.5)))\n",
    "fig.show()"
   ]
  },
  {
   "cell_type": "code",
   "execution_count": 208,
   "id": "ecd80cb1-7884-4326-884f-e994d4dd61e6",
   "metadata": {},
   "outputs": [],
   "source": [
    "fig.write_html(\"../includes/bodyPartSumsBody.html\")"
   ]
  },
  {
   "cell_type": "code",
   "execution_count": null,
   "id": "c37bcbc4-4939-4a14-bf52-d8cd326df92d",
   "metadata": {},
   "outputs": [],
   "source": []
  }
 ],
 "metadata": {
  "kernelspec": {
   "display_name": "Python 3 (ipykernel)",
   "language": "python",
   "name": "python3"
  },
  "language_info": {
   "codemirror_mode": {
    "name": "ipython",
    "version": 3
   },
   "file_extension": ".py",
   "mimetype": "text/x-python",
   "name": "python",
   "nbconvert_exporter": "python",
   "pygments_lexer": "ipython3",
   "version": "3.9.12"
  }
 },
 "nbformat": 4,
 "nbformat_minor": 5
}
